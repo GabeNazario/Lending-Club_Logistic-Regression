{
 "cells": [
  {
   "cell_type": "markdown",
   "id": "714ed0e5",
   "metadata": {
    "papermill": {
     "duration": 0.033395,
     "end_time": "2023-03-24T18:05:06.617380",
     "exception": false,
     "start_time": "2023-03-24T18:05:06.583985",
     "status": "completed"
    },
    "tags": []
   },
   "source": [
    "# This project is part of a case study to improve Exploratory Data Analysis, Missing Data handling, Feature Engineering, Deep Learning and Model Creation/Comparison."
   ]
  },
  {
   "cell_type": "code",
   "execution_count": 1,
   "id": "6f6ca605",
   "metadata": {
    "execution": {
     "iopub.execute_input": "2023-03-24T18:05:06.678425Z",
     "iopub.status.busy": "2023-03-24T18:05:06.677592Z",
     "iopub.status.idle": "2023-03-24T18:05:07.876975Z",
     "shell.execute_reply": "2023-03-24T18:05:07.875539Z"
    },
    "papermill": {
     "duration": 1.232954,
     "end_time": "2023-03-24T18:05:07.879953",
     "exception": false,
     "start_time": "2023-03-24T18:05:06.646999",
     "status": "completed"
    },
    "tags": []
   },
   "outputs": [],
   "source": [
    "import pandas as pd\n",
    "import numpy as np\n",
    "import seaborn as sns\n",
    "import matplotlib.pyplot as plt\n",
    "\n",
    "%matplotlib inline"
   ]
  },
  {
   "cell_type": "code",
   "execution_count": 2,
   "id": "c961a848",
   "metadata": {
    "execution": {
     "iopub.execute_input": "2023-03-24T18:05:07.940137Z",
     "iopub.status.busy": "2023-03-24T18:05:07.939693Z",
     "iopub.status.idle": "2023-03-24T18:05:07.965939Z",
     "shell.execute_reply": "2023-03-24T18:05:07.964519Z"
    },
    "papermill": {
     "duration": 0.05963,
     "end_time": "2023-03-24T18:05:07.968890",
     "exception": false,
     "start_time": "2023-03-24T18:05:07.909260",
     "status": "completed"
    },
    "tags": []
   },
   "outputs": [],
   "source": [
    "#Load Data Information and create module to retrieve description in case there is doubts while executing work.\n",
    "data_info = pd.read_csv('../input/lendingclub-data-sets/lending_club_info.csv', index_col='LoanStatNew')"
   ]
  },
  {
   "cell_type": "code",
   "execution_count": 3,
   "id": "72696100",
   "metadata": {
    "execution": {
     "iopub.execute_input": "2023-03-24T18:05:08.029583Z",
     "iopub.status.busy": "2023-03-24T18:05:08.029140Z",
     "iopub.status.idle": "2023-03-24T18:05:08.035478Z",
     "shell.execute_reply": "2023-03-24T18:05:08.034139Z"
    },
    "papermill": {
     "duration": 0.039964,
     "end_time": "2023-03-24T18:05:08.038171",
     "exception": false,
     "start_time": "2023-03-24T18:05:07.998207",
     "status": "completed"
    },
    "tags": []
   },
   "outputs": [],
   "source": [
    "def feat_info(col_name):\n",
    "    print(data_info.loc[col_name]['Description'])"
   ]
  },
  {
   "cell_type": "code",
   "execution_count": 4,
   "id": "aa399136",
   "metadata": {
    "execution": {
     "iopub.execute_input": "2023-03-24T18:05:08.098800Z",
     "iopub.status.busy": "2023-03-24T18:05:08.098353Z",
     "iopub.status.idle": "2023-03-24T18:05:08.108104Z",
     "shell.execute_reply": "2023-03-24T18:05:08.106621Z"
    },
    "papermill": {
     "duration": 0.044133,
     "end_time": "2023-03-24T18:05:08.111429",
     "exception": false,
     "start_time": "2023-03-24T18:05:08.067296",
     "status": "completed"
    },
    "tags": []
   },
   "outputs": [
    {
     "name": "stdout",
     "output_type": "stream",
     "text": [
      "The listed amount of the loan applied for by the borrower. If at some point in time, the credit department reduces the loan amount, then it will be reflected in this value.\n"
     ]
    }
   ],
   "source": [
    "feat_info('loan_amnt')"
   ]
  },
  {
   "cell_type": "code",
   "execution_count": 5,
   "id": "195d8340",
   "metadata": {
    "execution": {
     "iopub.execute_input": "2023-03-24T18:05:08.173849Z",
     "iopub.status.busy": "2023-03-24T18:05:08.173355Z",
     "iopub.status.idle": "2023-03-24T18:05:11.931646Z",
     "shell.execute_reply": "2023-03-24T18:05:11.930481Z"
    },
    "papermill": {
     "duration": 3.793002,
     "end_time": "2023-03-24T18:05:11.934915",
     "exception": false,
     "start_time": "2023-03-24T18:05:08.141913",
     "status": "completed"
    },
    "tags": []
   },
   "outputs": [],
   "source": [
    "#Import data\n",
    "df = pd.read_csv('../input/lendingclub-data-sets/lending_club_loan_two.csv')"
   ]
  },
  {
   "cell_type": "markdown",
   "id": "aecc3bd4",
   "metadata": {
    "papermill": {
     "duration": 0.029634,
     "end_time": "2023-03-24T18:05:11.994245",
     "exception": false,
     "start_time": "2023-03-24T18:05:11.964611",
     "status": "completed"
    },
    "tags": []
   },
   "source": [
    "Get an understanding of the dataset and if there is any null cells"
   ]
  },
  {
   "cell_type": "code",
   "execution_count": 6,
   "id": "682e5ea7",
   "metadata": {
    "execution": {
     "iopub.execute_input": "2023-03-24T18:05:12.055446Z",
     "iopub.status.busy": "2023-03-24T18:05:12.055033Z",
     "iopub.status.idle": "2023-03-24T18:05:12.362431Z",
     "shell.execute_reply": "2023-03-24T18:05:12.361121Z"
    },
    "papermill": {
     "duration": 0.341368,
     "end_time": "2023-03-24T18:05:12.365081",
     "exception": false,
     "start_time": "2023-03-24T18:05:12.023713",
     "status": "completed"
    },
    "tags": []
   },
   "outputs": [
    {
     "data": {
      "text/plain": [
       "loan_amnt                   0\n",
       "term                        0\n",
       "int_rate                    0\n",
       "installment                 0\n",
       "grade                       0\n",
       "sub_grade                   0\n",
       "emp_title               22927\n",
       "emp_length              18301\n",
       "home_ownership              0\n",
       "annual_inc                  0\n",
       "verification_status         0\n",
       "issue_d                     0\n",
       "loan_status                 0\n",
       "purpose                     0\n",
       "title                    1755\n",
       "dti                         0\n",
       "earliest_cr_line            0\n",
       "open_acc                    0\n",
       "pub_rec                     0\n",
       "revol_bal                   0\n",
       "revol_util                276\n",
       "total_acc                   0\n",
       "initial_list_status         0\n",
       "application_type            0\n",
       "mort_acc                37795\n",
       "pub_rec_bankruptcies      535\n",
       "address                     0\n",
       "dtype: int64"
      ]
     },
     "execution_count": 6,
     "metadata": {},
     "output_type": "execute_result"
    }
   ],
   "source": [
    "df.isnull().sum()"
   ]
  },
  {
   "cell_type": "code",
   "execution_count": 7,
   "id": "6de1ba16",
   "metadata": {
    "execution": {
     "iopub.execute_input": "2023-03-24T18:05:12.425874Z",
     "iopub.status.busy": "2023-03-24T18:05:12.425424Z",
     "iopub.status.idle": "2023-03-24T18:05:12.713017Z",
     "shell.execute_reply": "2023-03-24T18:05:12.711613Z"
    },
    "papermill": {
     "duration": 0.321218,
     "end_time": "2023-03-24T18:05:12.715799",
     "exception": false,
     "start_time": "2023-03-24T18:05:12.394581",
     "status": "completed"
    },
    "tags": []
   },
   "outputs": [
    {
     "data": {
      "text/html": [
       "<div>\n",
       "<style scoped>\n",
       "    .dataframe tbody tr th:only-of-type {\n",
       "        vertical-align: middle;\n",
       "    }\n",
       "\n",
       "    .dataframe tbody tr th {\n",
       "        vertical-align: top;\n",
       "    }\n",
       "\n",
       "    .dataframe thead th {\n",
       "        text-align: right;\n",
       "    }\n",
       "</style>\n",
       "<table border=\"1\" class=\"dataframe\">\n",
       "  <thead>\n",
       "    <tr style=\"text-align: right;\">\n",
       "      <th></th>\n",
       "      <th>count</th>\n",
       "      <th>mean</th>\n",
       "      <th>std</th>\n",
       "      <th>min</th>\n",
       "      <th>25%</th>\n",
       "      <th>50%</th>\n",
       "      <th>75%</th>\n",
       "      <th>max</th>\n",
       "    </tr>\n",
       "  </thead>\n",
       "  <tbody>\n",
       "    <tr>\n",
       "      <th>loan_amnt</th>\n",
       "      <td>396030.0</td>\n",
       "      <td>14113.888089</td>\n",
       "      <td>8357.441341</td>\n",
       "      <td>500.00</td>\n",
       "      <td>8000.00</td>\n",
       "      <td>12000.00</td>\n",
       "      <td>20000.00</td>\n",
       "      <td>40000.00</td>\n",
       "    </tr>\n",
       "    <tr>\n",
       "      <th>int_rate</th>\n",
       "      <td>396030.0</td>\n",
       "      <td>13.639400</td>\n",
       "      <td>4.472157</td>\n",
       "      <td>5.32</td>\n",
       "      <td>10.49</td>\n",
       "      <td>13.33</td>\n",
       "      <td>16.49</td>\n",
       "      <td>30.99</td>\n",
       "    </tr>\n",
       "    <tr>\n",
       "      <th>installment</th>\n",
       "      <td>396030.0</td>\n",
       "      <td>431.849698</td>\n",
       "      <td>250.727790</td>\n",
       "      <td>16.08</td>\n",
       "      <td>250.33</td>\n",
       "      <td>375.43</td>\n",
       "      <td>567.30</td>\n",
       "      <td>1533.81</td>\n",
       "    </tr>\n",
       "    <tr>\n",
       "      <th>annual_inc</th>\n",
       "      <td>396030.0</td>\n",
       "      <td>74203.175798</td>\n",
       "      <td>61637.621158</td>\n",
       "      <td>0.00</td>\n",
       "      <td>45000.00</td>\n",
       "      <td>64000.00</td>\n",
       "      <td>90000.00</td>\n",
       "      <td>8706582.00</td>\n",
       "    </tr>\n",
       "    <tr>\n",
       "      <th>dti</th>\n",
       "      <td>396030.0</td>\n",
       "      <td>17.379514</td>\n",
       "      <td>18.019092</td>\n",
       "      <td>0.00</td>\n",
       "      <td>11.28</td>\n",
       "      <td>16.91</td>\n",
       "      <td>22.98</td>\n",
       "      <td>9999.00</td>\n",
       "    </tr>\n",
       "    <tr>\n",
       "      <th>open_acc</th>\n",
       "      <td>396030.0</td>\n",
       "      <td>11.311153</td>\n",
       "      <td>5.137649</td>\n",
       "      <td>0.00</td>\n",
       "      <td>8.00</td>\n",
       "      <td>10.00</td>\n",
       "      <td>14.00</td>\n",
       "      <td>90.00</td>\n",
       "    </tr>\n",
       "    <tr>\n",
       "      <th>pub_rec</th>\n",
       "      <td>396030.0</td>\n",
       "      <td>0.178191</td>\n",
       "      <td>0.530671</td>\n",
       "      <td>0.00</td>\n",
       "      <td>0.00</td>\n",
       "      <td>0.00</td>\n",
       "      <td>0.00</td>\n",
       "      <td>86.00</td>\n",
       "    </tr>\n",
       "    <tr>\n",
       "      <th>revol_bal</th>\n",
       "      <td>396030.0</td>\n",
       "      <td>15844.539853</td>\n",
       "      <td>20591.836109</td>\n",
       "      <td>0.00</td>\n",
       "      <td>6025.00</td>\n",
       "      <td>11181.00</td>\n",
       "      <td>19620.00</td>\n",
       "      <td>1743266.00</td>\n",
       "    </tr>\n",
       "    <tr>\n",
       "      <th>revol_util</th>\n",
       "      <td>395754.0</td>\n",
       "      <td>53.791749</td>\n",
       "      <td>24.452193</td>\n",
       "      <td>0.00</td>\n",
       "      <td>35.80</td>\n",
       "      <td>54.80</td>\n",
       "      <td>72.90</td>\n",
       "      <td>892.30</td>\n",
       "    </tr>\n",
       "    <tr>\n",
       "      <th>total_acc</th>\n",
       "      <td>396030.0</td>\n",
       "      <td>25.414744</td>\n",
       "      <td>11.886991</td>\n",
       "      <td>2.00</td>\n",
       "      <td>17.00</td>\n",
       "      <td>24.00</td>\n",
       "      <td>32.00</td>\n",
       "      <td>151.00</td>\n",
       "    </tr>\n",
       "    <tr>\n",
       "      <th>mort_acc</th>\n",
       "      <td>358235.0</td>\n",
       "      <td>1.813991</td>\n",
       "      <td>2.147930</td>\n",
       "      <td>0.00</td>\n",
       "      <td>0.00</td>\n",
       "      <td>1.00</td>\n",
       "      <td>3.00</td>\n",
       "      <td>34.00</td>\n",
       "    </tr>\n",
       "    <tr>\n",
       "      <th>pub_rec_bankruptcies</th>\n",
       "      <td>395495.0</td>\n",
       "      <td>0.121648</td>\n",
       "      <td>0.356174</td>\n",
       "      <td>0.00</td>\n",
       "      <td>0.00</td>\n",
       "      <td>0.00</td>\n",
       "      <td>0.00</td>\n",
       "      <td>8.00</td>\n",
       "    </tr>\n",
       "  </tbody>\n",
       "</table>\n",
       "</div>"
      ],
      "text/plain": [
       "                         count          mean           std     min       25%  \\\n",
       "loan_amnt             396030.0  14113.888089   8357.441341  500.00   8000.00   \n",
       "int_rate              396030.0     13.639400      4.472157    5.32     10.49   \n",
       "installment           396030.0    431.849698    250.727790   16.08    250.33   \n",
       "annual_inc            396030.0  74203.175798  61637.621158    0.00  45000.00   \n",
       "dti                   396030.0     17.379514     18.019092    0.00     11.28   \n",
       "open_acc              396030.0     11.311153      5.137649    0.00      8.00   \n",
       "pub_rec               396030.0      0.178191      0.530671    0.00      0.00   \n",
       "revol_bal             396030.0  15844.539853  20591.836109    0.00   6025.00   \n",
       "revol_util            395754.0     53.791749     24.452193    0.00     35.80   \n",
       "total_acc             396030.0     25.414744     11.886991    2.00     17.00   \n",
       "mort_acc              358235.0      1.813991      2.147930    0.00      0.00   \n",
       "pub_rec_bankruptcies  395495.0      0.121648      0.356174    0.00      0.00   \n",
       "\n",
       "                           50%       75%         max  \n",
       "loan_amnt             12000.00  20000.00    40000.00  \n",
       "int_rate                 13.33     16.49       30.99  \n",
       "installment             375.43    567.30     1533.81  \n",
       "annual_inc            64000.00  90000.00  8706582.00  \n",
       "dti                      16.91     22.98     9999.00  \n",
       "open_acc                 10.00     14.00       90.00  \n",
       "pub_rec                   0.00      0.00       86.00  \n",
       "revol_bal             11181.00  19620.00  1743266.00  \n",
       "revol_util               54.80     72.90      892.30  \n",
       "total_acc                24.00     32.00      151.00  \n",
       "mort_acc                  1.00      3.00       34.00  \n",
       "pub_rec_bankruptcies      0.00      0.00        8.00  "
      ]
     },
     "execution_count": 7,
     "metadata": {},
     "output_type": "execute_result"
    }
   ],
   "source": [
    "df.describe().transpose()"
   ]
  },
  {
   "cell_type": "markdown",
   "id": "9065536b",
   "metadata": {
    "papermill": {
     "duration": 0.029305,
     "end_time": "2023-03-24T18:05:12.775158",
     "exception": false,
     "start_time": "2023-03-24T18:05:12.745853",
     "status": "completed"
    },
    "tags": []
   },
   "source": [
    "# Start of Exploratory Data Analysis and find important variables for possible use of Feature Engineering\n",
    "\n",
    "### The goal of project is to predict Loan_Status"
   ]
  },
  {
   "cell_type": "code",
   "execution_count": 8,
   "id": "4452c237",
   "metadata": {
    "execution": {
     "iopub.execute_input": "2023-03-24T18:05:12.839291Z",
     "iopub.status.busy": "2023-03-24T18:05:12.838849Z",
     "iopub.status.idle": "2023-03-24T18:05:13.306480Z",
     "shell.execute_reply": "2023-03-24T18:05:13.305068Z"
    },
    "papermill": {
     "duration": 0.502851,
     "end_time": "2023-03-24T18:05:13.309333",
     "exception": false,
     "start_time": "2023-03-24T18:05:12.806482",
     "status": "completed"
    },
    "tags": []
   },
   "outputs": [
    {
     "data": {
      "text/plain": [
       "<AxesSubplot:xlabel='loan_status', ylabel='count'>"
      ]
     },
     "execution_count": 8,
     "metadata": {},
     "output_type": "execute_result"
    },
    {
     "data": {
      "image/png": "[encoded data removed]",
      "text/plain": [
       "<Figure size 640x480 with 1 Axes>"
      ]
     },
     "metadata": {},
     "output_type": "display_data"
    }
   ],
   "source": [
    "sns.countplot(x=df['loan_status'])"
   ]
  },
  {
   "cell_type": "markdown",
   "id": "fddadc8a",
   "metadata": {
    "papermill": {
     "duration": 0.030032,
     "end_time": "2023-03-24T18:05:13.370443",
     "exception": false,
     "start_time": "2023-03-24T18:05:13.340411",
     "status": "completed"
    },
    "tags": []
   },
   "source": [
    "Unballanced database. This could possibly make harder to predict if load will be fully paid."
   ]
  },
  {
   "cell_type": "code",
   "execution_count": 9,
   "id": "239ea117",
   "metadata": {
    "execution": {
     "iopub.execute_input": "2023-03-24T18:05:13.433023Z",
     "iopub.status.busy": "2023-03-24T18:05:13.432530Z",
     "iopub.status.idle": "2023-03-24T18:05:13.991934Z",
     "shell.execute_reply": "2023-03-24T18:05:13.990721Z"
    },
    "papermill": {
     "duration": 0.593927,
     "end_time": "2023-03-24T18:05:13.994628",
     "exception": false,
     "start_time": "2023-03-24T18:05:13.400701",
     "status": "completed"
    },
    "tags": []
   },
   "outputs": [
    {
     "data": {
      "text/plain": [
       "<AxesSubplot:xlabel='loan_amnt', ylabel='Count'>"
      ]
     },
     "execution_count": 9,
     "metadata": {},
     "output_type": "execute_result"
    },
    {
     "data": {
      "image/png": "[encoded data removed]",
      "text/plain": [
       "<Figure size 1600x600 with 1 Axes>"
      ]
     },
     "metadata": {},
     "output_type": "display_data"
    }
   ],
   "source": [
    "#Check out the loan amount\n",
    "plt.figure(figsize=(16,6))\n",
    "sns.histplot(data=df,\n",
    "             x='loan_amnt',\n",
    "             bins=50,\n",
    "             alpha=0.5,\n",
    "             edgecolor=None) "
   ]
  },
  {
   "cell_type": "markdown",
   "id": "25eb8d94",
   "metadata": {
    "papermill": {
     "duration": 0.030358,
     "end_time": "2023-03-24T18:05:14.056172",
     "exception": false,
     "start_time": "2023-03-24T18:05:14.025814",
     "status": "completed"
    },
    "tags": []
   },
   "source": [
    "Look for correlation between variables (Loan_Status)"
   ]
  },
  {
   "cell_type": "code",
   "execution_count": 10,
   "id": "e8675d66",
   "metadata": {
    "execution": {
     "iopub.execute_input": "2023-03-24T18:05:14.120354Z",
     "iopub.status.busy": "2023-03-24T18:05:14.119395Z",
     "iopub.status.idle": "2023-03-24T18:05:15.438952Z",
     "shell.execute_reply": "2023-03-24T18:05:15.437899Z"
    },
    "papermill": {
     "duration": 1.355621,
     "end_time": "2023-03-24T18:05:15.442592",
     "exception": false,
     "start_time": "2023-03-24T18:05:14.086971",
     "status": "completed"
    },
    "tags": []
   },
   "outputs": [
    {
     "data": {
      "text/plain": [
       "<AxesSubplot:>"
      ]
     },
     "execution_count": 10,
     "metadata": {},
     "output_type": "execute_result"
    },
    {
     "data": {
      "image/png": "[encoded data removed]",
      "text/plain": [
       "<Figure size 1200x800 with 2 Axes>"
      ]
     },
     "metadata": {},
     "output_type": "display_data"
    }
   ],
   "source": [
    "plt.figure(figsize=(12,8))\n",
    "sns.heatmap(np.abs(df.corr()),\n",
    "            annot=True,\n",
    "            cmap='coolwarm')"
   ]
  },
  {
   "cell_type": "markdown",
   "id": "5fc9542c",
   "metadata": {
    "papermill": {
     "duration": 0.034888,
     "end_time": "2023-03-24T18:05:15.511100",
     "exception": false,
     "start_time": "2023-03-24T18:05:15.476212",
     "status": "completed"
    },
    "tags": []
   },
   "source": [
    "Correlation of 0.95 between installment and loan_amnt.\n",
    "Probably because installments ammount might increase as you get higher loans. \n",
    "Lets explore that"
   ]
  },
  {
   "cell_type": "code",
   "execution_count": 11,
   "id": "14b31839",
   "metadata": {
    "execution": {
     "iopub.execute_input": "2023-03-24T18:05:15.585018Z",
     "iopub.status.busy": "2023-03-24T18:05:15.584573Z",
     "iopub.status.idle": "2023-03-24T18:05:15.591418Z",
     "shell.execute_reply": "2023-03-24T18:05:15.590000Z"
    },
    "papermill": {
     "duration": 0.051082,
     "end_time": "2023-03-24T18:05:15.595410",
     "exception": false,
     "start_time": "2023-03-24T18:05:15.544328",
     "status": "completed"
    },
    "tags": []
   },
   "outputs": [
    {
     "name": "stdout",
     "output_type": "stream",
     "text": [
      "The monthly payment owed by the borrower if the loan originates.\n",
      "\n",
      "\n",
      "The listed amount of the loan applied for by the borrower. If at some point in time, the credit department reduces the loan amount, then it will be reflected in this value.\n"
     ]
    }
   ],
   "source": [
    "feat_info('installment')\n",
    "print('\\n')\n",
    "feat_info('loan_amnt')"
   ]
  },
  {
   "cell_type": "code",
   "execution_count": 12,
   "id": "b0a11ab1",
   "metadata": {
    "execution": {
     "iopub.execute_input": "2023-03-24T18:05:15.665633Z",
     "iopub.status.busy": "2023-03-24T18:05:15.665209Z",
     "iopub.status.idle": "2023-03-24T18:05:17.473737Z",
     "shell.execute_reply": "2023-03-24T18:05:17.472181Z"
    },
    "papermill": {
     "duration": 1.846755,
     "end_time": "2023-03-24T18:05:17.477068",
     "exception": false,
     "start_time": "2023-03-24T18:05:15.630313",
     "status": "completed"
    },
    "tags": []
   },
   "outputs": [
    {
     "data": {
      "text/plain": [
       "<AxesSubplot:xlabel='loan_amnt', ylabel='installment'>"
      ]
     },
     "execution_count": 12,
     "metadata": {},
     "output_type": "execute_result"
    },
    {
     "data": {
      "image/png": "[encoded data removed]",
      "text/plain": [
       "<Figure size 640x480 with 1 Axes>"
      ]
     },
     "metadata": {},
     "output_type": "display_data"
    }
   ],
   "source": [
    "sns.scatterplot(x='loan_amnt',\n",
    "                y='installment',\n",
    "                data=df)"
   ]
  },
  {
   "cell_type": "markdown",
   "id": "d569a86f",
   "metadata": {
    "papermill": {
     "duration": 0.036637,
     "end_time": "2023-03-24T18:05:17.549807",
     "exception": false,
     "start_time": "2023-03-24T18:05:17.513170",
     "status": "completed"
    },
    "tags": []
   },
   "source": [
    "Feels like a linear correlation with a lot of noise as you increase the Loan Amount.\n",
    "\n",
    "Let's move on to Loan Status and Loan Amount"
   ]
  },
  {
   "cell_type": "code",
   "execution_count": 13,
   "id": "0a625649",
   "metadata": {
    "execution": {
     "iopub.execute_input": "2023-03-24T18:05:17.623545Z",
     "iopub.status.busy": "2023-03-24T18:05:17.622761Z",
     "iopub.status.idle": "2023-03-24T18:05:18.046089Z",
     "shell.execute_reply": "2023-03-24T18:05:18.044743Z"
    },
    "papermill": {
     "duration": 0.46375,
     "end_time": "2023-03-24T18:05:18.048864",
     "exception": false,
     "start_time": "2023-03-24T18:05:17.585114",
     "status": "completed"
    },
    "tags": []
   },
   "outputs": [
    {
     "data": {
      "text/plain": [
       "<AxesSubplot:xlabel='loan_status', ylabel='loan_amnt'>"
      ]
     },
     "execution_count": 13,
     "metadata": {},
     "output_type": "execute_result"
    },
    {
     "data": {
      "image/png": "[encoded data removed]",
      "text/plain": [
       "<Figure size 640x480 with 1 Axes>"
      ]
     },
     "metadata": {},
     "output_type": "display_data"
    }
   ],
   "source": [
    "sns.boxplot(x='loan_status', y='loan_amnt', data=df)"
   ]
  },
  {
   "cell_type": "markdown",
   "id": "75e5f912",
   "metadata": {
    "papermill": {
     "duration": 0.036686,
     "end_time": "2023-03-24T18:05:18.122949",
     "exception": false,
     "start_time": "2023-03-24T18:05:18.086263",
     "status": "completed"
    },
    "tags": []
   },
   "source": [
    "Other tha a slightly higher average, there is no strong correlation that the amount borrowed would lead to default."
   ]
  },
  {
   "cell_type": "code",
   "execution_count": 14,
   "id": "6d28afe6",
   "metadata": {
    "execution": {
     "iopub.execute_input": "2023-03-24T18:05:18.197086Z",
     "iopub.status.busy": "2023-03-24T18:05:18.196648Z",
     "iopub.status.idle": "2023-03-24T18:05:18.295735Z",
     "shell.execute_reply": "2023-03-24T18:05:18.294348Z"
    },
    "papermill": {
     "duration": 0.139577,
     "end_time": "2023-03-24T18:05:18.298659",
     "exception": false,
     "start_time": "2023-03-24T18:05:18.159082",
     "status": "completed"
    },
    "tags": []
   },
   "outputs": [
    {
     "data": {
      "text/html": [
       "<div>\n",
       "<style scoped>\n",
       "    .dataframe tbody tr th:only-of-type {\n",
       "        vertical-align: middle;\n",
       "    }\n",
       "\n",
       "    .dataframe tbody tr th {\n",
       "        vertical-align: top;\n",
       "    }\n",
       "\n",
       "    .dataframe thead th {\n",
       "        text-align: right;\n",
       "    }\n",
       "</style>\n",
       "<table border=\"1\" class=\"dataframe\">\n",
       "  <thead>\n",
       "    <tr style=\"text-align: right;\">\n",
       "      <th></th>\n",
       "      <th>count</th>\n",
       "      <th>mean</th>\n",
       "      <th>std</th>\n",
       "      <th>min</th>\n",
       "      <th>25%</th>\n",
       "      <th>50%</th>\n",
       "      <th>75%</th>\n",
       "      <th>max</th>\n",
       "    </tr>\n",
       "    <tr>\n",
       "      <th>loan_status</th>\n",
       "      <th></th>\n",
       "      <th></th>\n",
       "      <th></th>\n",
       "      <th></th>\n",
       "      <th></th>\n",
       "      <th></th>\n",
       "      <th></th>\n",
       "      <th></th>\n",
       "    </tr>\n",
       "  </thead>\n",
       "  <tbody>\n",
       "    <tr>\n",
       "      <th>Charged Off</th>\n",
       "      <td>77673.0</td>\n",
       "      <td>15126.300967</td>\n",
       "      <td>8505.090557</td>\n",
       "      <td>1000.0</td>\n",
       "      <td>8525.0</td>\n",
       "      <td>14000.0</td>\n",
       "      <td>20000.0</td>\n",
       "      <td>40000.0</td>\n",
       "    </tr>\n",
       "    <tr>\n",
       "      <th>Fully Paid</th>\n",
       "      <td>318357.0</td>\n",
       "      <td>13866.878771</td>\n",
       "      <td>8302.319699</td>\n",
       "      <td>500.0</td>\n",
       "      <td>7500.0</td>\n",
       "      <td>12000.0</td>\n",
       "      <td>19225.0</td>\n",
       "      <td>40000.0</td>\n",
       "    </tr>\n",
       "  </tbody>\n",
       "</table>\n",
       "</div>"
      ],
      "text/plain": [
       "                count          mean          std     min     25%      50%  \\\n",
       "loan_status                                                                 \n",
       "Charged Off   77673.0  15126.300967  8505.090557  1000.0  8525.0  14000.0   \n",
       "Fully Paid   318357.0  13866.878771  8302.319699   500.0  7500.0  12000.0   \n",
       "\n",
       "                 75%      max  \n",
       "loan_status                    \n",
       "Charged Off  20000.0  40000.0  \n",
       "Fully Paid   19225.0  40000.0  "
      ]
     },
     "execution_count": 14,
     "metadata": {},
     "output_type": "execute_result"
    }
   ],
   "source": [
    "df.groupby('loan_status')['loan_amnt'].describe()"
   ]
  },
  {
   "cell_type": "markdown",
   "id": "53164f40",
   "metadata": {
    "papermill": {
     "duration": 0.035465,
     "end_time": "2023-03-24T18:05:18.371332",
     "exception": false,
     "start_time": "2023-03-24T18:05:18.335867",
     "status": "completed"
    },
    "tags": []
   },
   "source": [
    "Data complementing chart above."
   ]
  },
  {
   "cell_type": "code",
   "execution_count": 15,
   "id": "f5b481aa",
   "metadata": {
    "execution": {
     "iopub.execute_input": "2023-03-24T18:05:18.446060Z",
     "iopub.status.busy": "2023-03-24T18:05:18.445193Z",
     "iopub.status.idle": "2023-03-24T18:05:18.452740Z",
     "shell.execute_reply": "2023-03-24T18:05:18.451293Z"
    },
    "papermill": {
     "duration": 0.048612,
     "end_time": "2023-03-24T18:05:18.455767",
     "exception": false,
     "start_time": "2023-03-24T18:05:18.407155",
     "status": "completed"
    },
    "tags": []
   },
   "outputs": [
    {
     "name": "stdout",
     "output_type": "stream",
     "text": [
      "LC assigned loan grade\n",
      "LC assigned loan subgrade\n"
     ]
    }
   ],
   "source": [
    "feat_info('grade')\n",
    "feat_info('sub_grade') "
   ]
  },
  {
   "cell_type": "markdown",
   "id": "2fada92e",
   "metadata": {
    "papermill": {
     "duration": 0.037065,
     "end_time": "2023-03-24T18:05:18.528883",
     "exception": false,
     "start_time": "2023-03-24T18:05:18.491818",
     "status": "completed"
    },
    "tags": []
   },
   "source": [
    "Moving on to Grade and Subgrade\n",
    "Not a great explanation..."
   ]
  },
  {
   "cell_type": "markdown",
   "id": "c0c96c54",
   "metadata": {
    "papermill": {
     "duration": 0.038242,
     "end_time": "2023-03-24T18:05:18.603473",
     "exception": false,
     "start_time": "2023-03-24T18:05:18.565231",
     "status": "completed"
    },
    "tags": []
   },
   "source": [
    "Let's check out unique values"
   ]
  },
  {
   "cell_type": "code",
   "execution_count": 16,
   "id": "ecc68ea7",
   "metadata": {
    "execution": {
     "iopub.execute_input": "2023-03-24T18:05:18.683327Z",
     "iopub.status.busy": "2023-03-24T18:05:18.682910Z",
     "iopub.status.idle": "2023-03-24T18:05:18.718215Z",
     "shell.execute_reply": "2023-03-24T18:05:18.716942Z"
    },
    "papermill": {
     "duration": 0.076161,
     "end_time": "2023-03-24T18:05:18.720969",
     "exception": false,
     "start_time": "2023-03-24T18:05:18.644808",
     "status": "completed"
    },
    "tags": []
   },
   "outputs": [
    {
     "data": {
      "text/plain": [
       "array(['B', 'A', 'C', 'E', 'D', 'F', 'G'], dtype=object)"
      ]
     },
     "execution_count": 16,
     "metadata": {},
     "output_type": "execute_result"
    }
   ],
   "source": [
    "df['grade'].unique()"
   ]
  },
  {
   "cell_type": "markdown",
   "id": "78641b70",
   "metadata": {
    "papermill": {
     "duration": 0.036265,
     "end_time": "2023-03-24T18:05:18.793653",
     "exception": false,
     "start_time": "2023-03-24T18:05:18.757388",
     "status": "completed"
    },
    "tags": []
   },
   "source": [
    "Same as above"
   ]
  },
  {
   "cell_type": "code",
   "execution_count": 17,
   "id": "f648672f",
   "metadata": {
    "execution": {
     "iopub.execute_input": "2023-03-24T18:05:18.869246Z",
     "iopub.status.busy": "2023-03-24T18:05:18.868804Z",
     "iopub.status.idle": "2023-03-24T18:05:18.903710Z",
     "shell.execute_reply": "2023-03-24T18:05:18.902665Z"
    },
    "papermill": {
     "duration": 0.075372,
     "end_time": "2023-03-24T18:05:18.905991",
     "exception": false,
     "start_time": "2023-03-24T18:05:18.830619",
     "status": "completed"
    },
    "tags": []
   },
   "outputs": [
    {
     "data": {
      "text/plain": [
       "array(['B4', 'B5', 'B3', 'A2', 'C5', 'C3', 'A1', 'B2', 'C1', 'A5', 'E4',\n",
       "       'A4', 'A3', 'D1', 'C2', 'B1', 'D3', 'D5', 'D2', 'E1', 'E2', 'E5',\n",
       "       'F4', 'E3', 'D4', 'G1', 'F5', 'G2', 'C4', 'F1', 'F3', 'G5', 'G4',\n",
       "       'F2', 'G3'], dtype=object)"
      ]
     },
     "execution_count": 17,
     "metadata": {},
     "output_type": "execute_result"
    }
   ],
   "source": [
    "df['sub_grade'].unique()"
   ]
  },
  {
   "cell_type": "code",
   "execution_count": 18,
   "id": "e55b11fa",
   "metadata": {
    "execution": {
     "iopub.execute_input": "2023-03-24T18:05:18.981037Z",
     "iopub.status.busy": "2023-03-24T18:05:18.980153Z",
     "iopub.status.idle": "2023-03-24T18:05:19.671918Z",
     "shell.execute_reply": "2023-03-24T18:05:19.670451Z"
    },
    "papermill": {
     "duration": 0.732943,
     "end_time": "2023-03-24T18:05:19.674857",
     "exception": false,
     "start_time": "2023-03-24T18:05:18.941914",
     "status": "completed"
    },
    "tags": []
   },
   "outputs": [
    {
     "data": {
      "text/plain": [
       "<AxesSubplot:xlabel='grade', ylabel='count'>"
      ]
     },
     "execution_count": 18,
     "metadata": {},
     "output_type": "execute_result"
    },
    {
     "data": {
      "image/png": "[encoded data removed]",
      "text/plain": [
       "<Figure size 640x480 with 1 Axes>"
      ]
     },
     "metadata": {},
     "output_type": "display_data"
    }
   ],
   "source": [
    "sns.countplot(x='grade',\n",
    "              data=df,\n",
    "              hue='loan_status',\n",
    "              order = sorted(df['grade'].unique()),\n",
    "             palette='viridis')"
   ]
  },
  {
   "cell_type": "markdown",
   "id": "936981b1",
   "metadata": {
    "papermill": {
     "duration": 0.037438,
     "end_time": "2023-03-24T18:05:19.749866",
     "exception": false,
     "start_time": "2023-03-24T18:05:19.712428",
     "status": "completed"
    },
    "tags": []
   },
   "source": [
    "Very little information on F and G categories."
   ]
  },
  {
   "cell_type": "code",
   "execution_count": 19,
   "id": "d6fd55a4",
   "metadata": {
    "execution": {
     "iopub.execute_input": "2023-03-24T18:05:19.827089Z",
     "iopub.status.busy": "2023-03-24T18:05:19.826604Z",
     "iopub.status.idle": "2023-03-24T18:05:20.985024Z",
     "shell.execute_reply": "2023-03-24T18:05:20.983720Z"
    },
    "papermill": {
     "duration": 1.199812,
     "end_time": "2023-03-24T18:05:20.987838",
     "exception": false,
     "start_time": "2023-03-24T18:05:19.788026",
     "status": "completed"
    },
    "tags": []
   },
   "outputs": [
    {
     "data": {
      "image/png": "[encoded data removed]",
      "text/plain": [
       "<Figure size 1400x600 with 1 Axes>"
      ]
     },
     "metadata": {},
     "output_type": "display_data"
    }
   ],
   "source": [
    "plt.figure(figsize=(14,6))\n",
    "sns.countplot(x='sub_grade',\n",
    "              data=df,\n",
    "              hue='loan_status',\n",
    "              order=sorted(df['sub_grade'].unique()),\n",
    "              palette='viridis')\n",
    "plt.tight_layout()"
   ]
  },
  {
   "cell_type": "markdown",
   "id": "3988d1c1",
   "metadata": {
    "papermill": {
     "duration": 0.036455,
     "end_time": "2023-03-24T18:05:21.061181",
     "exception": false,
     "start_time": "2023-03-24T18:05:21.024726",
     "status": "completed"
    },
    "tags": []
   },
   "source": [
    "Fully paied and Charged Off ration for grades E, F and G are low. Let's dive a little into it."
   ]
  },
  {
   "cell_type": "code",
   "execution_count": 20,
   "id": "2f52a7fa",
   "metadata": {
    "execution": {
     "iopub.execute_input": "2023-03-24T18:05:21.137489Z",
     "iopub.status.busy": "2023-03-24T18:05:21.136540Z",
     "iopub.status.idle": "2023-03-24T18:05:21.812898Z",
     "shell.execute_reply": "2023-03-24T18:05:21.811962Z"
    },
    "papermill": {
     "duration": 0.717485,
     "end_time": "2023-03-24T18:05:21.815400",
     "exception": false,
     "start_time": "2023-03-24T18:05:21.097915",
     "status": "completed"
    },
    "tags": []
   },
   "outputs": [
    {
     "data": {
      "text/plain": [
       "<AxesSubplot:xlabel='sub_grade', ylabel='count'>"
      ]
     },
     "execution_count": 20,
     "metadata": {},
     "output_type": "execute_result"
    },
    {
     "data": {
      "image/png": "[encoded data removed]",
      "text/plain": [
       "<Figure size 640x480 with 1 Axes>"
      ]
     },
     "metadata": {},
     "output_type": "display_data"
    }
   ],
   "source": [
    "GF_df = df[(df['grade'] == 'G') | (df['grade'] == 'F') | (df['grade'] == 'E')]\n",
    "\n",
    "sns.countplot(x='sub_grade',\n",
    "              data=GF_df,\n",
    "              hue='loan_status',\n",
    "              order=sorted(GF_df['sub_grade'].unique()))"
   ]
  },
  {
   "cell_type": "markdown",
   "id": "a2cda305",
   "metadata": {
    "papermill": {
     "duration": 0.037578,
     "end_time": "2023-03-24T18:05:21.891394",
     "exception": false,
     "start_time": "2023-03-24T18:05:21.853816",
     "status": "completed"
    },
    "tags": []
   },
   "source": [
    "If there was more explanation between classes we could look futher into the feature. Trying to understand the reasons why it behaves like it does."
   ]
  },
  {
   "cell_type": "markdown",
   "id": "5fe150f2",
   "metadata": {
    "papermill": {
     "duration": 0.037857,
     "end_time": "2023-03-24T18:05:21.967859",
     "exception": false,
     "start_time": "2023-03-24T18:05:21.930002",
     "status": "completed"
    },
    "tags": []
   },
   "source": [
    "### Feature Engineering of Response"
   ]
  },
  {
   "cell_type": "markdown",
   "id": "3c28fd71",
   "metadata": {
    "papermill": {
     "duration": 0.038781,
     "end_time": "2023-03-24T18:05:22.044248",
     "exception": false,
     "start_time": "2023-03-24T18:05:22.005467",
     "status": "completed"
    },
    "tags": []
   },
   "source": [
    "Checking featueres under categorical response"
   ]
  },
  {
   "cell_type": "code",
   "execution_count": 21,
   "id": "9b933070",
   "metadata": {
    "execution": {
     "iopub.execute_input": "2023-03-24T18:05:22.123958Z",
     "iopub.status.busy": "2023-03-24T18:05:22.123190Z",
     "iopub.status.idle": "2023-03-24T18:05:22.161286Z",
     "shell.execute_reply": "2023-03-24T18:05:22.159965Z"
    },
    "papermill": {
     "duration": 0.081523,
     "end_time": "2023-03-24T18:05:22.163808",
     "exception": false,
     "start_time": "2023-03-24T18:05:22.082285",
     "status": "completed"
    },
    "tags": []
   },
   "outputs": [
    {
     "data": {
      "text/plain": [
       "array(['Fully Paid', 'Charged Off'], dtype=object)"
      ]
     },
     "execution_count": 21,
     "metadata": {},
     "output_type": "execute_result"
    }
   ],
   "source": [
    "df['loan_status'].unique()"
   ]
  },
  {
   "cell_type": "markdown",
   "id": "d9cfb44c",
   "metadata": {
    "papermill": {
     "duration": 0.037946,
     "end_time": "2023-03-24T18:05:22.240222",
     "exception": false,
     "start_time": "2023-03-24T18:05:22.202276",
     "status": "completed"
    },
    "tags": []
   },
   "source": [
    "Reponse is categorical, so we will create a new column and change the strings to zero or one."
   ]
  },
  {
   "cell_type": "code",
   "execution_count": 22,
   "id": "581038c1",
   "metadata": {
    "execution": {
     "iopub.execute_input": "2023-03-24T18:05:22.319187Z",
     "iopub.status.busy": "2023-03-24T18:05:22.318002Z",
     "iopub.status.idle": "2023-03-24T18:05:22.351384Z",
     "shell.execute_reply": "2023-03-24T18:05:22.349976Z"
    },
    "papermill": {
     "duration": 0.076087,
     "end_time": "2023-03-24T18:05:22.354438",
     "exception": false,
     "start_time": "2023-03-24T18:05:22.278351",
     "status": "completed"
    },
    "tags": []
   },
   "outputs": [],
   "source": [
    "df['loan_repaid'] = df['loan_status'].map({'Fully Paid':1, 'Charged Off':0})"
   ]
  },
  {
   "cell_type": "markdown",
   "id": "80f761c9",
   "metadata": {
    "papermill": {
     "duration": 0.0373,
     "end_time": "2023-03-24T18:05:22.429824",
     "exception": false,
     "start_time": "2023-03-24T18:05:22.392524",
     "status": "completed"
    },
    "tags": []
   },
   "source": [
    "Did if work?"
   ]
  },
  {
   "cell_type": "code",
   "execution_count": 23,
   "id": "36c6942e",
   "metadata": {
    "execution": {
     "iopub.execute_input": "2023-03-24T18:05:22.508280Z",
     "iopub.status.busy": "2023-03-24T18:05:22.507836Z",
     "iopub.status.idle": "2023-03-24T18:05:22.528468Z",
     "shell.execute_reply": "2023-03-24T18:05:22.527094Z"
    },
    "papermill": {
     "duration": 0.063299,
     "end_time": "2023-03-24T18:05:22.531471",
     "exception": false,
     "start_time": "2023-03-24T18:05:22.468172",
     "status": "completed"
    },
    "tags": []
   },
   "outputs": [
    {
     "data": {
      "text/html": [
       "<div>\n",
       "<style scoped>\n",
       "    .dataframe tbody tr th:only-of-type {\n",
       "        vertical-align: middle;\n",
       "    }\n",
       "\n",
       "    .dataframe tbody tr th {\n",
       "        vertical-align: top;\n",
       "    }\n",
       "\n",
       "    .dataframe thead th {\n",
       "        text-align: right;\n",
       "    }\n",
       "</style>\n",
       "<table border=\"1\" class=\"dataframe\">\n",
       "  <thead>\n",
       "    <tr style=\"text-align: right;\">\n",
       "      <th></th>\n",
       "      <th>loan_status</th>\n",
       "      <th>loan_repaid</th>\n",
       "    </tr>\n",
       "  </thead>\n",
       "  <tbody>\n",
       "    <tr>\n",
       "      <th>0</th>\n",
       "      <td>Fully Paid</td>\n",
       "      <td>1</td>\n",
       "    </tr>\n",
       "    <tr>\n",
       "      <th>1</th>\n",
       "      <td>Fully Paid</td>\n",
       "      <td>1</td>\n",
       "    </tr>\n",
       "    <tr>\n",
       "      <th>2</th>\n",
       "      <td>Fully Paid</td>\n",
       "      <td>1</td>\n",
       "    </tr>\n",
       "    <tr>\n",
       "      <th>3</th>\n",
       "      <td>Fully Paid</td>\n",
       "      <td>1</td>\n",
       "    </tr>\n",
       "    <tr>\n",
       "      <th>4</th>\n",
       "      <td>Charged Off</td>\n",
       "      <td>0</td>\n",
       "    </tr>\n",
       "    <tr>\n",
       "      <th>...</th>\n",
       "      <td>...</td>\n",
       "      <td>...</td>\n",
       "    </tr>\n",
       "    <tr>\n",
       "      <th>396025</th>\n",
       "      <td>Fully Paid</td>\n",
       "      <td>1</td>\n",
       "    </tr>\n",
       "    <tr>\n",
       "      <th>396026</th>\n",
       "      <td>Fully Paid</td>\n",
       "      <td>1</td>\n",
       "    </tr>\n",
       "    <tr>\n",
       "      <th>396027</th>\n",
       "      <td>Fully Paid</td>\n",
       "      <td>1</td>\n",
       "    </tr>\n",
       "    <tr>\n",
       "      <th>396028</th>\n",
       "      <td>Fully Paid</td>\n",
       "      <td>1</td>\n",
       "    </tr>\n",
       "    <tr>\n",
       "      <th>396029</th>\n",
       "      <td>Fully Paid</td>\n",
       "      <td>1</td>\n",
       "    </tr>\n",
       "  </tbody>\n",
       "</table>\n",
       "<p>396030 rows × 2 columns</p>\n",
       "</div>"
      ],
      "text/plain": [
       "        loan_status  loan_repaid\n",
       "0        Fully Paid            1\n",
       "1        Fully Paid            1\n",
       "2        Fully Paid            1\n",
       "3        Fully Paid            1\n",
       "4       Charged Off            0\n",
       "...             ...          ...\n",
       "396025   Fully Paid            1\n",
       "396026   Fully Paid            1\n",
       "396027   Fully Paid            1\n",
       "396028   Fully Paid            1\n",
       "396029   Fully Paid            1\n",
       "\n",
       "[396030 rows x 2 columns]"
      ]
     },
     "execution_count": 23,
     "metadata": {},
     "output_type": "execute_result"
    }
   ],
   "source": [
    "df[['loan_status','loan_repaid']]"
   ]
  },
  {
   "cell_type": "markdown",
   "id": "3290cf4a",
   "metadata": {
    "papermill": {
     "duration": 0.041408,
     "end_time": "2023-03-24T18:05:22.612867",
     "exception": false,
     "start_time": "2023-03-24T18:05:22.571459",
     "status": "completed"
    },
    "tags": []
   },
   "source": [
    "Now that we have a categorical column as response, let's check how the features correlate with that."
   ]
  },
  {
   "cell_type": "code",
   "execution_count": 24,
   "id": "f55d9e1e",
   "metadata": {
    "execution": {
     "iopub.execute_input": "2023-03-24T18:05:22.690834Z",
     "iopub.status.busy": "2023-03-24T18:05:22.690338Z",
     "iopub.status.idle": "2023-03-24T18:05:23.254637Z",
     "shell.execute_reply": "2023-03-24T18:05:23.253312Z"
    },
    "papermill": {
     "duration": 0.606445,
     "end_time": "2023-03-24T18:05:23.257159",
     "exception": false,
     "start_time": "2023-03-24T18:05:22.650714",
     "status": "completed"
    },
    "tags": []
   },
   "outputs": [
    {
     "data": {
      "text/plain": [
       "<AxesSubplot:>"
      ]
     },
     "execution_count": 24,
     "metadata": {},
     "output_type": "execute_result"
    },
    {
     "data": {
      "image/png": "[encoded data removed]",
      "text/plain": [
       "<Figure size 640x480 with 1 Axes>"
      ]
     },
     "metadata": {},
     "output_type": "display_data"
    }
   ],
   "source": [
    "df.corr()['loan_repaid'].sort_values().iloc[:-1].plot(kind='bar')"
   ]
  },
  {
   "cell_type": "markdown",
   "id": "a2b2863f",
   "metadata": {
    "papermill": {
     "duration": 0.038389,
     "end_time": "2023-03-24T18:05:23.334250",
     "exception": false,
     "start_time": "2023-03-24T18:05:23.295861",
     "status": "completed"
    },
    "tags": []
   },
   "source": [
    "### That's it for the EDA "
   ]
  },
  {
   "cell_type": "markdown",
   "id": "ce638d3b",
   "metadata": {
    "papermill": {
     "duration": 0.037983,
     "end_time": "2023-03-24T18:05:23.410796",
     "exception": false,
     "start_time": "2023-03-24T18:05:23.372813",
     "status": "completed"
    },
    "tags": []
   },
   "source": [
    "# Section 2 - Data PreProcessing and Feature Engineering"
   ]
  },
  {
   "cell_type": "code",
   "execution_count": 25,
   "id": "a4ecc04f",
   "metadata": {
    "execution": {
     "iopub.execute_input": "2023-03-24T18:05:23.495202Z",
     "iopub.status.busy": "2023-03-24T18:05:23.494403Z",
     "iopub.status.idle": "2023-03-24T18:05:23.525346Z",
     "shell.execute_reply": "2023-03-24T18:05:23.523904Z"
    },
    "papermill": {
     "duration": 0.078373,
     "end_time": "2023-03-24T18:05:23.528216",
     "exception": false,
     "start_time": "2023-03-24T18:05:23.449843",
     "status": "completed"
    },
    "tags": []
   },
   "outputs": [
    {
     "data": {
      "text/html": [
       "<div>\n",
       "<style scoped>\n",
       "    .dataframe tbody tr th:only-of-type {\n",
       "        vertical-align: middle;\n",
       "    }\n",
       "\n",
       "    .dataframe tbody tr th {\n",
       "        vertical-align: top;\n",
       "    }\n",
       "\n",
       "    .dataframe thead th {\n",
       "        text-align: right;\n",
       "    }\n",
       "</style>\n",
       "<table border=\"1\" class=\"dataframe\">\n",
       "  <thead>\n",
       "    <tr style=\"text-align: right;\">\n",
       "      <th></th>\n",
       "      <th>loan_amnt</th>\n",
       "      <th>term</th>\n",
       "      <th>int_rate</th>\n",
       "      <th>installment</th>\n",
       "      <th>grade</th>\n",
       "      <th>sub_grade</th>\n",
       "      <th>emp_title</th>\n",
       "      <th>emp_length</th>\n",
       "      <th>home_ownership</th>\n",
       "      <th>annual_inc</th>\n",
       "      <th>...</th>\n",
       "      <th>pub_rec</th>\n",
       "      <th>revol_bal</th>\n",
       "      <th>revol_util</th>\n",
       "      <th>total_acc</th>\n",
       "      <th>initial_list_status</th>\n",
       "      <th>application_type</th>\n",
       "      <th>mort_acc</th>\n",
       "      <th>pub_rec_bankruptcies</th>\n",
       "      <th>address</th>\n",
       "      <th>loan_repaid</th>\n",
       "    </tr>\n",
       "  </thead>\n",
       "  <tbody>\n",
       "    <tr>\n",
       "      <th>0</th>\n",
       "      <td>10000.0</td>\n",
       "      <td>36 months</td>\n",
       "      <td>11.44</td>\n",
       "      <td>329.48</td>\n",
       "      <td>B</td>\n",
       "      <td>B4</td>\n",
       "      <td>Marketing</td>\n",
       "      <td>10+ years</td>\n",
       "      <td>RENT</td>\n",
       "      <td>117000.0</td>\n",
       "      <td>...</td>\n",
       "      <td>0.0</td>\n",
       "      <td>36369.0</td>\n",
       "      <td>41.8</td>\n",
       "      <td>25.0</td>\n",
       "      <td>w</td>\n",
       "      <td>INDIVIDUAL</td>\n",
       "      <td>0.0</td>\n",
       "      <td>0.0</td>\n",
       "      <td>0174 Michelle Gateway\\nMendozaberg, OK 22690</td>\n",
       "      <td>1</td>\n",
       "    </tr>\n",
       "    <tr>\n",
       "      <th>1</th>\n",
       "      <td>8000.0</td>\n",
       "      <td>36 months</td>\n",
       "      <td>11.99</td>\n",
       "      <td>265.68</td>\n",
       "      <td>B</td>\n",
       "      <td>B5</td>\n",
       "      <td>Credit analyst</td>\n",
       "      <td>4 years</td>\n",
       "      <td>MORTGAGE</td>\n",
       "      <td>65000.0</td>\n",
       "      <td>...</td>\n",
       "      <td>0.0</td>\n",
       "      <td>20131.0</td>\n",
       "      <td>53.3</td>\n",
       "      <td>27.0</td>\n",
       "      <td>f</td>\n",
       "      <td>INDIVIDUAL</td>\n",
       "      <td>3.0</td>\n",
       "      <td>0.0</td>\n",
       "      <td>1076 Carney Fort Apt. 347\\nLoganmouth, SD 05113</td>\n",
       "      <td>1</td>\n",
       "    </tr>\n",
       "    <tr>\n",
       "      <th>2</th>\n",
       "      <td>15600.0</td>\n",
       "      <td>36 months</td>\n",
       "      <td>10.49</td>\n",
       "      <td>506.97</td>\n",
       "      <td>B</td>\n",
       "      <td>B3</td>\n",
       "      <td>Statistician</td>\n",
       "      <td>&lt; 1 year</td>\n",
       "      <td>RENT</td>\n",
       "      <td>43057.0</td>\n",
       "      <td>...</td>\n",
       "      <td>0.0</td>\n",
       "      <td>11987.0</td>\n",
       "      <td>92.2</td>\n",
       "      <td>26.0</td>\n",
       "      <td>f</td>\n",
       "      <td>INDIVIDUAL</td>\n",
       "      <td>0.0</td>\n",
       "      <td>0.0</td>\n",
       "      <td>87025 Mark Dale Apt. 269\\nNew Sabrina, WV 05113</td>\n",
       "      <td>1</td>\n",
       "    </tr>\n",
       "    <tr>\n",
       "      <th>3</th>\n",
       "      <td>7200.0</td>\n",
       "      <td>36 months</td>\n",
       "      <td>6.49</td>\n",
       "      <td>220.65</td>\n",
       "      <td>A</td>\n",
       "      <td>A2</td>\n",
       "      <td>Client Advocate</td>\n",
       "      <td>6 years</td>\n",
       "      <td>RENT</td>\n",
       "      <td>54000.0</td>\n",
       "      <td>...</td>\n",
       "      <td>0.0</td>\n",
       "      <td>5472.0</td>\n",
       "      <td>21.5</td>\n",
       "      <td>13.0</td>\n",
       "      <td>f</td>\n",
       "      <td>INDIVIDUAL</td>\n",
       "      <td>0.0</td>\n",
       "      <td>0.0</td>\n",
       "      <td>823 Reid Ford\\nDelacruzside, MA 00813</td>\n",
       "      <td>1</td>\n",
       "    </tr>\n",
       "    <tr>\n",
       "      <th>4</th>\n",
       "      <td>24375.0</td>\n",
       "      <td>60 months</td>\n",
       "      <td>17.27</td>\n",
       "      <td>609.33</td>\n",
       "      <td>C</td>\n",
       "      <td>C5</td>\n",
       "      <td>Destiny Management Inc.</td>\n",
       "      <td>9 years</td>\n",
       "      <td>MORTGAGE</td>\n",
       "      <td>55000.0</td>\n",
       "      <td>...</td>\n",
       "      <td>0.0</td>\n",
       "      <td>24584.0</td>\n",
       "      <td>69.8</td>\n",
       "      <td>43.0</td>\n",
       "      <td>f</td>\n",
       "      <td>INDIVIDUAL</td>\n",
       "      <td>1.0</td>\n",
       "      <td>0.0</td>\n",
       "      <td>679 Luna Roads\\nGreggshire, VA 11650</td>\n",
       "      <td>0</td>\n",
       "    </tr>\n",
       "  </tbody>\n",
       "</table>\n",
       "<p>5 rows × 28 columns</p>\n",
       "</div>"
      ],
      "text/plain": [
       "   loan_amnt        term  int_rate  installment grade sub_grade  \\\n",
       "0    10000.0   36 months     11.44       329.48     B        B4   \n",
       "1     8000.0   36 months     11.99       265.68     B        B5   \n",
       "2    15600.0   36 months     10.49       506.97     B        B3   \n",
       "3     7200.0   36 months      6.49       220.65     A        A2   \n",
       "4    24375.0   60 months     17.27       609.33     C        C5   \n",
       "\n",
       "                 emp_title emp_length home_ownership  annual_inc  ... pub_rec  \\\n",
       "0                Marketing  10+ years           RENT    117000.0  ...     0.0   \n",
       "1          Credit analyst     4 years       MORTGAGE     65000.0  ...     0.0   \n",
       "2             Statistician   < 1 year           RENT     43057.0  ...     0.0   \n",
       "3          Client Advocate    6 years           RENT     54000.0  ...     0.0   \n",
       "4  Destiny Management Inc.    9 years       MORTGAGE     55000.0  ...     0.0   \n",
       "\n",
       "  revol_bal revol_util total_acc initial_list_status  application_type  \\\n",
       "0   36369.0       41.8      25.0                   w        INDIVIDUAL   \n",
       "1   20131.0       53.3      27.0                   f        INDIVIDUAL   \n",
       "2   11987.0       92.2      26.0                   f        INDIVIDUAL   \n",
       "3    5472.0       21.5      13.0                   f        INDIVIDUAL   \n",
       "4   24584.0       69.8      43.0                   f        INDIVIDUAL   \n",
       "\n",
       "  mort_acc  pub_rec_bankruptcies  \\\n",
       "0      0.0                   0.0   \n",
       "1      3.0                   0.0   \n",
       "2      0.0                   0.0   \n",
       "3      0.0                   0.0   \n",
       "4      1.0                   0.0   \n",
       "\n",
       "                                           address  loan_repaid  \n",
       "0     0174 Michelle Gateway\\nMendozaberg, OK 22690            1  \n",
       "1  1076 Carney Fort Apt. 347\\nLoganmouth, SD 05113            1  \n",
       "2  87025 Mark Dale Apt. 269\\nNew Sabrina, WV 05113            1  \n",
       "3            823 Reid Ford\\nDelacruzside, MA 00813            1  \n",
       "4             679 Luna Roads\\nGreggshire, VA 11650            0  \n",
       "\n",
       "[5 rows x 28 columns]"
      ]
     },
     "execution_count": 25,
     "metadata": {},
     "output_type": "execute_result"
    }
   ],
   "source": [
    "df.head()"
   ]
  },
  {
   "cell_type": "markdown",
   "id": "55478262",
   "metadata": {
    "papermill": {
     "duration": 0.04059,
     "end_time": "2023-03-24T18:05:23.608582",
     "exception": false,
     "start_time": "2023-03-24T18:05:23.567992",
     "status": "completed"
    },
    "tags": []
   },
   "source": [
    "## Missing Data"
   ]
  },
  {
   "cell_type": "code",
   "execution_count": 26,
   "id": "bc8898db",
   "metadata": {
    "execution": {
     "iopub.execute_input": "2023-03-24T18:05:23.689929Z",
     "iopub.status.busy": "2023-03-24T18:05:23.689439Z",
     "iopub.status.idle": "2023-03-24T18:05:23.695887Z",
     "shell.execute_reply": "2023-03-24T18:05:23.695031Z"
    },
    "papermill": {
     "duration": 0.049738,
     "end_time": "2023-03-24T18:05:23.698132",
     "exception": false,
     "start_time": "2023-03-24T18:05:23.648394",
     "status": "completed"
    },
    "tags": []
   },
   "outputs": [
    {
     "data": {
      "text/plain": [
       "396030"
      ]
     },
     "execution_count": 26,
     "metadata": {},
     "output_type": "execute_result"
    }
   ],
   "source": [
    "len(df)"
   ]
  },
  {
   "cell_type": "code",
   "execution_count": 27,
   "id": "b3d3944f",
   "metadata": {
    "execution": {
     "iopub.execute_input": "2023-03-24T18:05:23.780370Z",
     "iopub.status.busy": "2023-03-24T18:05:23.779236Z",
     "iopub.status.idle": "2023-03-24T18:05:24.091777Z",
     "shell.execute_reply": "2023-03-24T18:05:24.090414Z"
    },
    "papermill": {
     "duration": 0.356851,
     "end_time": "2023-03-24T18:05:24.095057",
     "exception": false,
     "start_time": "2023-03-24T18:05:23.738206",
     "status": "completed"
    },
    "tags": []
   },
   "outputs": [
    {
     "data": {
      "text/plain": [
       "loan_amnt                   0\n",
       "term                        0\n",
       "int_rate                    0\n",
       "installment                 0\n",
       "grade                       0\n",
       "sub_grade                   0\n",
       "emp_title               22927\n",
       "emp_length              18301\n",
       "home_ownership              0\n",
       "annual_inc                  0\n",
       "verification_status         0\n",
       "issue_d                     0\n",
       "loan_status                 0\n",
       "purpose                     0\n",
       "title                    1755\n",
       "dti                         0\n",
       "earliest_cr_line            0\n",
       "open_acc                    0\n",
       "pub_rec                     0\n",
       "revol_bal                   0\n",
       "revol_util                276\n",
       "total_acc                   0\n",
       "initial_list_status         0\n",
       "application_type            0\n",
       "mort_acc                37795\n",
       "pub_rec_bankruptcies      535\n",
       "address                     0\n",
       "loan_repaid                 0\n",
       "dtype: int64"
      ]
     },
     "execution_count": 27,
     "metadata": {},
     "output_type": "execute_result"
    }
   ],
   "source": [
    "df.isnull().sum()"
   ]
  },
  {
   "cell_type": "markdown",
   "id": "fd698215",
   "metadata": {
    "papermill": {
     "duration": 0.040392,
     "end_time": "2023-03-24T18:05:24.175766",
     "exception": false,
     "start_time": "2023-03-24T18:05:24.135374",
     "status": "completed"
    },
    "tags": []
   },
   "source": [
    "See missing data as percentage"
   ]
  },
  {
   "cell_type": "code",
   "execution_count": 28,
   "id": "f7002205",
   "metadata": {
    "execution": {
     "iopub.execute_input": "2023-03-24T18:05:24.257579Z",
     "iopub.status.busy": "2023-03-24T18:05:24.256278Z",
     "iopub.status.idle": "2023-03-24T18:05:24.565291Z",
     "shell.execute_reply": "2023-03-24T18:05:24.563779Z"
    },
    "papermill": {
     "duration": 0.35304,
     "end_time": "2023-03-24T18:05:24.567922",
     "exception": false,
     "start_time": "2023-03-24T18:05:24.214882",
     "status": "completed"
    },
    "tags": []
   },
   "outputs": [
    {
     "data": {
      "text/plain": [
       "loan_amnt               0.000000\n",
       "term                    0.000000\n",
       "int_rate                0.000000\n",
       "installment             0.000000\n",
       "grade                   0.000000\n",
       "sub_grade               0.000000\n",
       "emp_title               5.789208\n",
       "emp_length              4.621115\n",
       "home_ownership          0.000000\n",
       "annual_inc              0.000000\n",
       "verification_status     0.000000\n",
       "issue_d                 0.000000\n",
       "loan_status             0.000000\n",
       "purpose                 0.000000\n",
       "title                   0.443148\n",
       "dti                     0.000000\n",
       "earliest_cr_line        0.000000\n",
       "open_acc                0.000000\n",
       "pub_rec                 0.000000\n",
       "revol_bal               0.000000\n",
       "revol_util              0.069692\n",
       "total_acc               0.000000\n",
       "initial_list_status     0.000000\n",
       "application_type        0.000000\n",
       "mort_acc                9.543469\n",
       "pub_rec_bankruptcies    0.135091\n",
       "address                 0.000000\n",
       "loan_repaid             0.000000\n",
       "dtype: float64"
      ]
     },
     "execution_count": 28,
     "metadata": {},
     "output_type": "execute_result"
    }
   ],
   "source": [
    "100*df.isnull().sum()/len(df)"
   ]
  },
  {
   "cell_type": "code",
   "execution_count": 29,
   "id": "3e389484",
   "metadata": {
    "execution": {
     "iopub.execute_input": "2023-03-24T18:05:24.651278Z",
     "iopub.status.busy": "2023-03-24T18:05:24.650845Z",
     "iopub.status.idle": "2023-03-24T18:05:24.657839Z",
     "shell.execute_reply": "2023-03-24T18:05:24.656500Z"
    },
    "papermill": {
     "duration": 0.0588,
     "end_time": "2023-03-24T18:05:24.666393",
     "exception": false,
     "start_time": "2023-03-24T18:05:24.607593",
     "status": "completed"
    },
    "tags": []
   },
   "outputs": [
    {
     "name": "stdout",
     "output_type": "stream",
     "text": [
      "The job title supplied by the Borrower when applying for the loan.*\n",
      "\n",
      "\n",
      "Employment length in years. Possible values are between 0 and 10 where 0 means less than one year and 10 means ten or more years. \n"
     ]
    }
   ],
   "source": [
    "feat_info('emp_title')\n",
    "print('\\n')\n",
    "feat_info('emp_length')"
   ]
  },
  {
   "cell_type": "code",
   "execution_count": 30,
   "id": "3b5c76ab",
   "metadata": {
    "execution": {
     "iopub.execute_input": "2023-03-24T18:05:24.748817Z",
     "iopub.status.busy": "2023-03-24T18:05:24.747598Z",
     "iopub.status.idle": "2023-03-24T18:05:24.857385Z",
     "shell.execute_reply": "2023-03-24T18:05:24.856352Z"
    },
    "papermill": {
     "duration": 0.15373,
     "end_time": "2023-03-24T18:05:24.860221",
     "exception": false,
     "start_time": "2023-03-24T18:05:24.706491",
     "status": "completed"
    },
    "tags": []
   },
   "outputs": [
    {
     "data": {
      "text/plain": [
       "173105"
      ]
     },
     "execution_count": 30,
     "metadata": {},
     "output_type": "execute_result"
    }
   ],
   "source": [
    "df['emp_title'].nunique()"
   ]
  },
  {
   "cell_type": "markdown",
   "id": "0c4b4694",
   "metadata": {
    "papermill": {
     "duration": 0.040661,
     "end_time": "2023-03-24T18:05:24.941426",
     "exception": false,
     "start_time": "2023-03-24T18:05:24.900765",
     "status": "completed"
    },
    "tags": []
   },
   "source": [
    "That's far too many job titles to easily fill missing data, or create dummy variables."
   ]
  },
  {
   "cell_type": "code",
   "execution_count": 31,
   "id": "918644b0",
   "metadata": {
    "execution": {
     "iopub.execute_input": "2023-03-24T18:05:25.022577Z",
     "iopub.status.busy": "2023-03-24T18:05:25.022129Z",
     "iopub.status.idle": "2023-03-24T18:05:25.056006Z",
     "shell.execute_reply": "2023-03-24T18:05:25.054746Z"
    },
    "papermill": {
     "duration": 0.077548,
     "end_time": "2023-03-24T18:05:25.058467",
     "exception": false,
     "start_time": "2023-03-24T18:05:24.980919",
     "status": "completed"
    },
    "tags": []
   },
   "outputs": [
    {
     "data": {
      "text/plain": [
       "11"
      ]
     },
     "execution_count": 31,
     "metadata": {},
     "output_type": "execute_result"
    }
   ],
   "source": [
    "df['emp_length'].nunique()"
   ]
  },
  {
   "cell_type": "code",
   "execution_count": 32,
   "id": "ab183670",
   "metadata": {
    "execution": {
     "iopub.execute_input": "2023-03-24T18:05:25.140189Z",
     "iopub.status.busy": "2023-03-24T18:05:25.139772Z",
     "iopub.status.idle": "2023-03-24T18:05:25.433529Z",
     "shell.execute_reply": "2023-03-24T18:05:25.432179Z"
    },
    "papermill": {
     "duration": 0.337884,
     "end_time": "2023-03-24T18:05:25.436307",
     "exception": false,
     "start_time": "2023-03-24T18:05:25.098423",
     "status": "completed"
    },
    "tags": []
   },
   "outputs": [
    {
     "data": {
      "text/plain": [
       "<AxesSubplot:>"
      ]
     },
     "execution_count": 32,
     "metadata": {},
     "output_type": "execute_result"
    },
    {
     "data": {
      "image/png": "[encoded data removed]",
      "text/plain": [
       "<Figure size 640x480 with 1 Axes>"
      ]
     },
     "metadata": {},
     "output_type": "display_data"
    }
   ],
   "source": [
    "df['emp_length'].value_counts().plot(kind='bar')"
   ]
  },
  {
   "cell_type": "markdown",
   "id": "dcad8931",
   "metadata": {
    "papermill": {
     "duration": 0.040026,
     "end_time": "2023-03-24T18:05:25.516382",
     "exception": false,
     "start_time": "2023-03-24T18:05:25.476356",
     "status": "completed"
    },
    "tags": []
   },
   "source": [
    "Let's see if there is a trend between length of employment and loan status."
   ]
  },
  {
   "cell_type": "code",
   "execution_count": 33,
   "id": "6232617f",
   "metadata": {
    "execution": {
     "iopub.execute_input": "2023-03-24T18:05:25.598539Z",
     "iopub.status.busy": "2023-03-24T18:05:25.597739Z",
     "iopub.status.idle": "2023-03-24T18:05:25.603502Z",
     "shell.execute_reply": "2023-03-24T18:05:25.602230Z"
    },
    "papermill": {
     "duration": 0.049809,
     "end_time": "2023-03-24T18:05:25.606080",
     "exception": false,
     "start_time": "2023-03-24T18:05:25.556271",
     "status": "completed"
    },
    "tags": []
   },
   "outputs": [],
   "source": [
    "order = ['< 1 year',\n",
    "         '1 year',\n",
    "         '2 years',\n",
    "         '3 years',\n",
    "         '4 years',\n",
    "         '5 years',\n",
    "         '6 years',\n",
    "         '7 years',\n",
    "         '8 years',\n",
    "         '9 years',\n",
    "         '10+ years'\n",
    "        ]"
   ]
  },
  {
   "cell_type": "code",
   "execution_count": 34,
   "id": "2d8a9826",
   "metadata": {
    "execution": {
     "iopub.execute_input": "2023-03-24T18:05:25.691146Z",
     "iopub.status.busy": "2023-03-24T18:05:25.690416Z",
     "iopub.status.idle": "2023-03-24T18:05:26.428547Z",
     "shell.execute_reply": "2023-03-24T18:05:26.427206Z"
    },
    "papermill": {
     "duration": 0.783232,
     "end_time": "2023-03-24T18:05:26.431335",
     "exception": false,
     "start_time": "2023-03-24T18:05:25.648103",
     "status": "completed"
    },
    "tags": []
   },
   "outputs": [
    {
     "data": {
      "text/plain": [
       "<AxesSubplot:xlabel='emp_length', ylabel='count'>"
      ]
     },
     "execution_count": 34,
     "metadata": {},
     "output_type": "execute_result"
    },
    {
     "data": {
      "image/png": "[encoded data removed]",
      "text/plain": [
       "<Figure size 1200x500 with 1 Axes>"
      ]
     },
     "metadata": {},
     "output_type": "display_data"
    }
   ],
   "source": [
    "plt.figure(figsize=(12,5))\n",
    "sns.countplot(x=df['emp_length'], hue=df['loan_status'], order = order)"
   ]
  },
  {
   "cell_type": "code",
   "execution_count": 35,
   "id": "ba9d4a83",
   "metadata": {
    "execution": {
     "iopub.execute_input": "2023-03-24T18:05:26.517971Z",
     "iopub.status.busy": "2023-03-24T18:05:26.516583Z",
     "iopub.status.idle": "2023-03-24T18:05:27.072173Z",
     "shell.execute_reply": "2023-03-24T18:05:27.070905Z"
    },
    "papermill": {
     "duration": 0.603133,
     "end_time": "2023-03-24T18:05:27.075149",
     "exception": false,
     "start_time": "2023-03-24T18:05:26.472016",
     "status": "completed"
    },
    "tags": []
   },
   "outputs": [
    {
     "data": {
      "text/plain": [
       "<AxesSubplot:xlabel='emp_length'>"
      ]
     },
     "execution_count": 35,
     "metadata": {},
     "output_type": "execute_result"
    },
    {
     "data": {
      "image/png": "[encoded data removed]",
      "text/plain": [
       "<Figure size 640x480 with 1 Axes>"
      ]
     },
     "metadata": {},
     "output_type": "display_data"
    }
   ],
   "source": [
    "emp_npaid = df[df['loan_status'] == 'Charged Off'].groupby('emp_length')['loan_status'].count()\n",
    "emp_paid = df[df['loan_status'] == 'Fully Paid'].groupby('emp_length')['loan_status'].count()\n",
    "\n",
    "ratio = emp_npaid/(emp_paid + emp_npaid)\n",
    "ratio.loc[order].plot(kind = 'bar')"
   ]
  },
  {
   "cell_type": "markdown",
   "id": "68adaf5e",
   "metadata": {
    "papermill": {
     "duration": 0.041436,
     "end_time": "2023-03-24T18:05:27.158769",
     "exception": false,
     "start_time": "2023-03-24T18:05:27.117333",
     "status": "completed"
    },
    "tags": []
   },
   "source": [
    "Pretty even across the board. Apparently length of employnment does not correlate with paying the loan.\n",
    " \n",
    "Ratio is similar across length of emplynment, column will be dropped."
   ]
  },
  {
   "cell_type": "code",
   "execution_count": 36,
   "id": "f67ecf52",
   "metadata": {
    "execution": {
     "iopub.execute_input": "2023-03-24T18:05:27.246808Z",
     "iopub.status.busy": "2023-03-24T18:05:27.245718Z",
     "iopub.status.idle": "2023-03-24T18:05:27.326299Z",
     "shell.execute_reply": "2023-03-24T18:05:27.325172Z"
    },
    "papermill": {
     "duration": 0.126986,
     "end_time": "2023-03-24T18:05:27.329145",
     "exception": false,
     "start_time": "2023-03-24T18:05:27.202159",
     "status": "completed"
    },
    "tags": []
   },
   "outputs": [],
   "source": [
    "df = df.drop(columns=['emp_length','emp_title'], axis=1)"
   ]
  },
  {
   "cell_type": "code",
   "execution_count": 37,
   "id": "ba9ad334",
   "metadata": {
    "execution": {
     "iopub.execute_input": "2023-03-24T18:05:27.416087Z",
     "iopub.status.busy": "2023-03-24T18:05:27.415644Z",
     "iopub.status.idle": "2023-03-24T18:05:27.713994Z",
     "shell.execute_reply": "2023-03-24T18:05:27.712479Z"
    },
    "papermill": {
     "duration": 0.345146,
     "end_time": "2023-03-24T18:05:27.717242",
     "exception": false,
     "start_time": "2023-03-24T18:05:27.372096",
     "status": "completed"
    },
    "tags": []
   },
   "outputs": [
    {
     "data": {
      "text/plain": [
       "loan_amnt                   0\n",
       "term                        0\n",
       "int_rate                    0\n",
       "installment                 0\n",
       "grade                       0\n",
       "sub_grade                   0\n",
       "home_ownership              0\n",
       "annual_inc                  0\n",
       "verification_status         0\n",
       "issue_d                     0\n",
       "loan_status                 0\n",
       "purpose                     0\n",
       "title                    1755\n",
       "dti                         0\n",
       "earliest_cr_line            0\n",
       "open_acc                    0\n",
       "pub_rec                     0\n",
       "revol_bal                   0\n",
       "revol_util                276\n",
       "total_acc                   0\n",
       "initial_list_status         0\n",
       "application_type            0\n",
       "mort_acc                37795\n",
       "pub_rec_bankruptcies      535\n",
       "address                     0\n",
       "loan_repaid                 0\n",
       "dtype: int64"
      ]
     },
     "execution_count": 37,
     "metadata": {},
     "output_type": "execute_result"
    }
   ],
   "source": [
    "df.isna().sum()"
   ]
  },
  {
   "cell_type": "code",
   "execution_count": 38,
   "id": "22171704",
   "metadata": {
    "execution": {
     "iopub.execute_input": "2023-03-24T18:05:27.806937Z",
     "iopub.status.busy": "2023-03-24T18:05:27.806487Z",
     "iopub.status.idle": "2023-03-24T18:05:28.025025Z",
     "shell.execute_reply": "2023-03-24T18:05:28.023775Z"
    },
    "papermill": {
     "duration": 0.268043,
     "end_time": "2023-03-24T18:05:28.027866",
     "exception": false,
     "start_time": "2023-03-24T18:05:27.759823",
     "status": "completed"
    },
    "tags": []
   },
   "outputs": [
    {
     "data": {
      "text/plain": [
       "title                                  purpose           \n",
       "Debt consolidation                     debt_consolidation    152106\n",
       "Credit card refinancing                credit_card            51354\n",
       "Home improvement                       home_improvement       15182\n",
       "Other                                  other                  12878\n",
       "Debt Consolidation                     debt_consolidation     10837\n",
       "                                                              ...  \n",
       "Going green for good                   major_purchase             1\n",
       "Going out high interest credit cards.  credit_card                1\n",
       "Going to Make it                       credit_card                1\n",
       "Going to be proud owner of home        house                      1\n",
       "~Summer Fun~                           home_improvement           1\n",
       "Length: 54958, dtype: int64"
      ]
     },
     "execution_count": 38,
     "metadata": {},
     "output_type": "execute_result"
    }
   ],
   "source": [
    "df[['title','purpose']].value_counts()"
   ]
  },
  {
   "cell_type": "markdown",
   "id": "247ea946",
   "metadata": {
    "papermill": {
     "duration": 0.042201,
     "end_time": "2023-03-24T18:05:28.111803",
     "exception": false,
     "start_time": "2023-03-24T18:05:28.069602",
     "status": "completed"
    },
    "tags": []
   },
   "source": [
    "Title column is the same as purpose, but with extra unecessary information. It will be dropped."
   ]
  },
  {
   "cell_type": "code",
   "execution_count": 39,
   "id": "990c2e30",
   "metadata": {
    "execution": {
     "iopub.execute_input": "2023-03-24T18:05:28.199300Z",
     "iopub.status.busy": "2023-03-24T18:05:28.198570Z",
     "iopub.status.idle": "2023-03-24T18:05:28.308418Z",
     "shell.execute_reply": "2023-03-24T18:05:28.307298Z"
    },
    "papermill": {
     "duration": 0.157724,
     "end_time": "2023-03-24T18:05:28.311187",
     "exception": false,
     "start_time": "2023-03-24T18:05:28.153463",
     "status": "completed"
    },
    "tags": []
   },
   "outputs": [],
   "source": [
    "df = df.drop('title', axis =1)"
   ]
  },
  {
   "cell_type": "code",
   "execution_count": 40,
   "id": "a0155375",
   "metadata": {
    "execution": {
     "iopub.execute_input": "2023-03-24T18:05:28.397774Z",
     "iopub.status.busy": "2023-03-24T18:05:28.396555Z",
     "iopub.status.idle": "2023-03-24T18:05:28.409572Z",
     "shell.execute_reply": "2023-03-24T18:05:28.407185Z"
    },
    "papermill": {
     "duration": 0.06051,
     "end_time": "2023-03-24T18:05:28.413156",
     "exception": false,
     "start_time": "2023-03-24T18:05:28.352646",
     "status": "completed"
    },
    "tags": []
   },
   "outputs": [
    {
     "name": "stdout",
     "output_type": "stream",
     "text": [
      "Revolving line utilization rate, or the amount of credit the borrower is using relative to all available revolving credit.\n"
     ]
    },
    {
     "data": {
      "text/plain": [
       "0.06969169002348306"
      ]
     },
     "execution_count": 40,
     "metadata": {},
     "output_type": "execute_result"
    }
   ],
   "source": [
    "feat_info('revol_util')\n",
    "\n",
    "100* df['revol_util'].isna().sum()/len(df['revol_util'])"
   ]
  },
  {
   "cell_type": "markdown",
   "id": "1f1dcb13",
   "metadata": {
    "papermill": {
     "duration": 0.042254,
     "end_time": "2023-03-24T18:05:28.497812",
     "exception": false,
     "start_time": "2023-03-24T18:05:28.455558",
     "status": "completed"
    },
    "tags": []
   },
   "source": [
    "Revol_Util missing data is less than .1% of total dataset. Rows will be dropped later."
   ]
  },
  {
   "cell_type": "code",
   "execution_count": 41,
   "id": "c5451609",
   "metadata": {
    "execution": {
     "iopub.execute_input": "2023-03-24T18:05:28.584845Z",
     "iopub.status.busy": "2023-03-24T18:05:28.584391Z",
     "iopub.status.idle": "2023-03-24T18:05:28.604388Z",
     "shell.execute_reply": "2023-03-24T18:05:28.602556Z"
    },
    "papermill": {
     "duration": 0.066861,
     "end_time": "2023-03-24T18:05:28.607059",
     "exception": false,
     "start_time": "2023-03-24T18:05:28.540198",
     "status": "completed"
    },
    "tags": []
   },
   "outputs": [
    {
     "name": "stdout",
     "output_type": "stream",
     "text": [
      "Number of mortgage accounts.\n",
      "\n",
      "\n"
     ]
    },
    {
     "data": {
      "text/plain": [
       "0.0     139777\n",
       "1.0      60416\n",
       "2.0      49948\n",
       "3.0      38049\n",
       "4.0      27887\n",
       "5.0      18194\n",
       "6.0      11069\n",
       "7.0       6052\n",
       "8.0       3121\n",
       "9.0       1656\n",
       "10.0       865\n",
       "11.0       479\n",
       "12.0       264\n",
       "13.0       146\n",
       "14.0       107\n",
       "15.0        61\n",
       "16.0        37\n",
       "17.0        22\n",
       "18.0        18\n",
       "19.0        15\n",
       "20.0        13\n",
       "24.0        10\n",
       "22.0         7\n",
       "21.0         4\n",
       "25.0         4\n",
       "27.0         3\n",
       "32.0         2\n",
       "31.0         2\n",
       "23.0         2\n",
       "26.0         2\n",
       "28.0         1\n",
       "30.0         1\n",
       "34.0         1\n",
       "Name: mort_acc, dtype: int64"
      ]
     },
     "execution_count": 41,
     "metadata": {},
     "output_type": "execute_result"
    }
   ],
   "source": [
    "feat_info('mort_acc')\n",
    "print('\\n')\n",
    "df['mort_acc'].value_counts()"
   ]
  },
  {
   "cell_type": "code",
   "execution_count": 42,
   "id": "13f71650",
   "metadata": {
    "execution": {
     "iopub.execute_input": "2023-03-24T18:05:28.694918Z",
     "iopub.status.busy": "2023-03-24T18:05:28.693642Z",
     "iopub.status.idle": "2023-03-24T18:05:28.934233Z",
     "shell.execute_reply": "2023-03-24T18:05:28.932778Z"
    },
    "papermill": {
     "duration": 0.288235,
     "end_time": "2023-03-24T18:05:28.937984",
     "exception": false,
     "start_time": "2023-03-24T18:05:28.649749",
     "status": "completed"
    },
    "tags": []
   },
   "outputs": [
    {
     "data": {
      "text/plain": [
       "total_acc               0.381072\n",
       "annual_inc              0.236320\n",
       "loan_amnt               0.222315\n",
       "revol_bal               0.194925\n",
       "installment             0.193694\n",
       "open_acc                0.109205\n",
       "loan_repaid             0.073111\n",
       "pub_rec_bankruptcies    0.027239\n",
       "pub_rec                 0.011552\n",
       "revol_util              0.007514\n",
       "dti                    -0.025439\n",
       "int_rate               -0.082583\n",
       "Name: mort_acc, dtype: float64"
      ]
     },
     "execution_count": 42,
     "metadata": {},
     "output_type": "execute_result"
    }
   ],
   "source": [
    "df.corr()['mort_acc'].sort_values(ascending=False)[1:]"
   ]
  },
  {
   "cell_type": "markdown",
   "id": "2dcc4b9c",
   "metadata": {
    "papermill": {
     "duration": 0.047079,
     "end_time": "2023-03-24T18:05:29.045028",
     "exception": false,
     "start_time": "2023-03-24T18:05:28.997949",
     "status": "completed"
    },
    "tags": []
   },
   "source": [
    "To fill Mort_Acc we could use the median or remove the column. We will try to find a feature that has the most correlation and use that and group by to do it."
   ]
  },
  {
   "cell_type": "markdown",
   "id": "99d6c9c7",
   "metadata": {
    "papermill": {
     "duration": 0.047093,
     "end_time": "2023-03-24T18:05:29.135880",
     "exception": false,
     "start_time": "2023-03-24T18:05:29.088787",
     "status": "completed"
    },
    "tags": []
   },
   "source": [
    "Correlation between mort_acc and total_acc is very low, 38%. That means that there is low correlation and can be ignored.\n",
    "The study groups the data and fill the NA with the average of that.\n",
    "For learning purposes I will follow the process, but the correlation is very low and does not hold on its own."
   ]
  },
  {
   "cell_type": "code",
   "execution_count": 43,
   "id": "32a2210c",
   "metadata": {
    "execution": {
     "iopub.execute_input": "2023-03-24T18:05:29.224469Z",
     "iopub.status.busy": "2023-03-24T18:05:29.224030Z",
     "iopub.status.idle": "2023-03-24T18:05:29.361871Z",
     "shell.execute_reply": "2023-03-24T18:05:29.360008Z"
    },
    "papermill": {
     "duration": 0.186827,
     "end_time": "2023-03-24T18:05:29.365623",
     "exception": false,
     "start_time": "2023-03-24T18:05:29.178796",
     "status": "completed"
    },
    "tags": []
   },
   "outputs": [],
   "source": [
    "acc_fill = df.groupby(by='total_acc').mean()['mort_acc']"
   ]
  },
  {
   "cell_type": "code",
   "execution_count": 44,
   "id": "d09693e8",
   "metadata": {
    "execution": {
     "iopub.execute_input": "2023-03-24T18:05:29.455973Z",
     "iopub.status.busy": "2023-03-24T18:05:29.455237Z",
     "iopub.status.idle": "2023-03-24T18:05:29.466533Z",
     "shell.execute_reply": "2023-03-24T18:05:29.465009Z"
    },
    "papermill": {
     "duration": 0.06001,
     "end_time": "2023-03-24T18:05:29.469178",
     "exception": false,
     "start_time": "2023-03-24T18:05:29.409168",
     "status": "completed"
    },
    "tags": []
   },
   "outputs": [
    {
     "data": {
      "text/plain": [
       "total_acc\n",
       "2.0      0.000000\n",
       "3.0      0.052023\n",
       "4.0      0.066743\n",
       "5.0      0.103289\n",
       "6.0      0.151293\n",
       "           ...   \n",
       "124.0    1.000000\n",
       "129.0    1.000000\n",
       "135.0    3.000000\n",
       "150.0    2.000000\n",
       "151.0    0.000000\n",
       "Name: mort_acc, Length: 118, dtype: float64"
      ]
     },
     "execution_count": 44,
     "metadata": {},
     "output_type": "execute_result"
    }
   ],
   "source": [
    "acc_fill"
   ]
  },
  {
   "cell_type": "code",
   "execution_count": 45,
   "id": "78df4a31",
   "metadata": {
    "execution": {
     "iopub.execute_input": "2023-03-24T18:05:29.557552Z",
     "iopub.status.busy": "2023-03-24T18:05:29.557151Z",
     "iopub.status.idle": "2023-03-24T18:05:29.562922Z",
     "shell.execute_reply": "2023-03-24T18:05:29.561502Z"
    },
    "papermill": {
     "duration": 0.053373,
     "end_time": "2023-03-24T18:05:29.565477",
     "exception": false,
     "start_time": "2023-03-24T18:05:29.512104",
     "status": "completed"
    },
    "tags": []
   },
   "outputs": [],
   "source": [
    "def fill_na(total_acc, mort_acc):\n",
    "    \n",
    "    if np.isnan(mort_acc):\n",
    "        return acc_fill[total_acc]\n",
    "    else:\n",
    "        return mort_acc"
   ]
  },
  {
   "cell_type": "code",
   "execution_count": 46,
   "id": "cdfe0b9d",
   "metadata": {
    "execution": {
     "iopub.execute_input": "2023-03-24T18:05:29.655158Z",
     "iopub.status.busy": "2023-03-24T18:05:29.654739Z",
     "iopub.status.idle": "2023-03-24T18:05:37.109698Z",
     "shell.execute_reply": "2023-03-24T18:05:37.108046Z"
    },
    "papermill": {
     "duration": 7.503881,
     "end_time": "2023-03-24T18:05:37.112697",
     "exception": false,
     "start_time": "2023-03-24T18:05:29.608816",
     "status": "completed"
    },
    "tags": []
   },
   "outputs": [],
   "source": [
    "df['mort_acc'] = df.apply(lambda x: fill_na(x['total_acc'], x['mort_acc']), axis=1)"
   ]
  },
  {
   "cell_type": "code",
   "execution_count": 47,
   "id": "f620f845",
   "metadata": {
    "execution": {
     "iopub.execute_input": "2023-03-24T18:05:37.201321Z",
     "iopub.status.busy": "2023-03-24T18:05:37.200879Z",
     "iopub.status.idle": "2023-03-24T18:05:37.458178Z",
     "shell.execute_reply": "2023-03-24T18:05:37.456871Z"
    },
    "papermill": {
     "duration": 0.30624,
     "end_time": "2023-03-24T18:05:37.461277",
     "exception": false,
     "start_time": "2023-03-24T18:05:37.155037",
     "status": "completed"
    },
    "tags": []
   },
   "outputs": [
    {
     "data": {
      "text/plain": [
       "loan_amnt                 0\n",
       "term                      0\n",
       "int_rate                  0\n",
       "installment               0\n",
       "grade                     0\n",
       "sub_grade                 0\n",
       "home_ownership            0\n",
       "annual_inc                0\n",
       "verification_status       0\n",
       "issue_d                   0\n",
       "loan_status               0\n",
       "purpose                   0\n",
       "dti                       0\n",
       "earliest_cr_line          0\n",
       "open_acc                  0\n",
       "pub_rec                   0\n",
       "revol_bal                 0\n",
       "revol_util              276\n",
       "total_acc                 0\n",
       "initial_list_status       0\n",
       "application_type          0\n",
       "mort_acc                  0\n",
       "pub_rec_bankruptcies    535\n",
       "address                   0\n",
       "loan_repaid               0\n",
       "dtype: int64"
      ]
     },
     "execution_count": 47,
     "metadata": {},
     "output_type": "execute_result"
    }
   ],
   "source": [
    "df.isna().sum()"
   ]
  },
  {
   "cell_type": "markdown",
   "id": "61146546",
   "metadata": {
    "papermill": {
     "duration": 0.042165,
     "end_time": "2023-03-24T18:05:37.546102",
     "exception": false,
     "start_time": "2023-03-24T18:05:37.503937",
     "status": "completed"
    },
    "tags": []
   },
   "source": [
    "Dropping NA of all rows that are empty. Less than 1% empty."
   ]
  },
  {
   "cell_type": "code",
   "execution_count": 48,
   "id": "607837b6",
   "metadata": {
    "execution": {
     "iopub.execute_input": "2023-03-24T18:05:37.633408Z",
     "iopub.status.busy": "2023-03-24T18:05:37.632068Z",
     "iopub.status.idle": "2023-03-24T18:05:37.980795Z",
     "shell.execute_reply": "2023-03-24T18:05:37.979161Z"
    },
    "papermill": {
     "duration": 0.395443,
     "end_time": "2023-03-24T18:05:37.983618",
     "exception": false,
     "start_time": "2023-03-24T18:05:37.588175",
     "status": "completed"
    },
    "tags": []
   },
   "outputs": [],
   "source": [
    "df = df.dropna(axis=0)"
   ]
  },
  {
   "cell_type": "code",
   "execution_count": 49,
   "id": "23318de3",
   "metadata": {
    "execution": {
     "iopub.execute_input": "2023-03-24T18:05:38.145315Z",
     "iopub.status.busy": "2023-03-24T18:05:38.144279Z",
     "iopub.status.idle": "2023-03-24T18:05:38.392770Z",
     "shell.execute_reply": "2023-03-24T18:05:38.391607Z"
    },
    "papermill": {
     "duration": 0.367906,
     "end_time": "2023-03-24T18:05:38.395515",
     "exception": false,
     "start_time": "2023-03-24T18:05:38.027609",
     "status": "completed"
    },
    "tags": []
   },
   "outputs": [
    {
     "data": {
      "text/plain": [
       "loan_amnt               0\n",
       "term                    0\n",
       "int_rate                0\n",
       "installment             0\n",
       "grade                   0\n",
       "sub_grade               0\n",
       "home_ownership          0\n",
       "annual_inc              0\n",
       "verification_status     0\n",
       "issue_d                 0\n",
       "loan_status             0\n",
       "purpose                 0\n",
       "dti                     0\n",
       "earliest_cr_line        0\n",
       "open_acc                0\n",
       "pub_rec                 0\n",
       "revol_bal               0\n",
       "revol_util              0\n",
       "total_acc               0\n",
       "initial_list_status     0\n",
       "application_type        0\n",
       "mort_acc                0\n",
       "pub_rec_bankruptcies    0\n",
       "address                 0\n",
       "loan_repaid             0\n",
       "dtype: int64"
      ]
     },
     "execution_count": 49,
     "metadata": {},
     "output_type": "execute_result"
    }
   ],
   "source": [
    "df.isna().sum()"
   ]
  },
  {
   "cell_type": "markdown",
   "id": "1394f3d5",
   "metadata": {
    "papermill": {
     "duration": 0.042833,
     "end_time": "2023-03-24T18:05:38.482310",
     "exception": false,
     "start_time": "2023-03-24T18:05:38.439477",
     "status": "completed"
    },
    "tags": []
   },
   "source": [
    "# Feature Engineering \n",
    "\n",
    "## Dealing with Strings and Categorical Columns"
   ]
  },
  {
   "cell_type": "code",
   "execution_count": 50,
   "id": "6bd67b4c",
   "metadata": {
    "execution": {
     "iopub.execute_input": "2023-03-24T18:05:38.590707Z",
     "iopub.status.busy": "2023-03-24T18:05:38.589864Z",
     "iopub.status.idle": "2023-03-24T18:05:38.672724Z",
     "shell.execute_reply": "2023-03-24T18:05:38.671519Z"
    },
    "papermill": {
     "duration": 0.141446,
     "end_time": "2023-03-24T18:05:38.675505",
     "exception": false,
     "start_time": "2023-03-24T18:05:38.534059",
     "status": "completed"
    },
    "tags": []
   },
   "outputs": [
    {
     "data": {
      "text/plain": [
       "Index(['term', 'grade', 'sub_grade', 'home_ownership', 'verification_status',\n",
       "       'issue_d', 'loan_status', 'purpose', 'earliest_cr_line',\n",
       "       'initial_list_status', 'application_type', 'address'],\n",
       "      dtype='object')"
      ]
     },
     "execution_count": 50,
     "metadata": {},
     "output_type": "execute_result"
    }
   ],
   "source": [
    "df.select_dtypes(include=[object]).columns"
   ]
  },
  {
   "cell_type": "code",
   "execution_count": 51,
   "id": "3d201007",
   "metadata": {
    "execution": {
     "iopub.execute_input": "2023-03-24T18:05:38.763586Z",
     "iopub.status.busy": "2023-03-24T18:05:38.762779Z",
     "iopub.status.idle": "2023-03-24T18:05:38.797386Z",
     "shell.execute_reply": "2023-03-24T18:05:38.796158Z"
    },
    "papermill": {
     "duration": 0.081778,
     "end_time": "2023-03-24T18:05:38.800172",
     "exception": false,
     "start_time": "2023-03-24T18:05:38.718394",
     "status": "completed"
    },
    "tags": []
   },
   "outputs": [
    {
     "data": {
      "text/plain": [
       " 36 months    301247\n",
       " 60 months     93972\n",
       "Name: term, dtype: int64"
      ]
     },
     "execution_count": 51,
     "metadata": {},
     "output_type": "execute_result"
    }
   ],
   "source": [
    "df['term'].value_counts()"
   ]
  },
  {
   "cell_type": "markdown",
   "id": "0eaf7c40",
   "metadata": {
    "papermill": {
     "duration": 0.04521,
     "end_time": "2023-03-24T18:05:38.888734",
     "exception": false,
     "start_time": "2023-03-24T18:05:38.843524",
     "status": "completed"
    },
    "tags": []
   },
   "source": [
    "Let's turn that into integer"
   ]
  },
  {
   "cell_type": "code",
   "execution_count": 52,
   "id": "e07977b0",
   "metadata": {
    "execution": {
     "iopub.execute_input": "2023-03-24T18:05:38.979396Z",
     "iopub.status.busy": "2023-03-24T18:05:38.978002Z",
     "iopub.status.idle": "2023-03-24T18:05:39.303177Z",
     "shell.execute_reply": "2023-03-24T18:05:39.301730Z"
    },
    "papermill": {
     "duration": 0.372917,
     "end_time": "2023-03-24T18:05:39.306163",
     "exception": false,
     "start_time": "2023-03-24T18:05:38.933246",
     "status": "completed"
    },
    "tags": []
   },
   "outputs": [],
   "source": [
    "df['term'] = df['term'].apply(lambda term: int(term[:3]))"
   ]
  },
  {
   "cell_type": "code",
   "execution_count": 53,
   "id": "e2eb4d0f",
   "metadata": {
    "execution": {
     "iopub.execute_input": "2023-03-24T18:05:39.395929Z",
     "iopub.status.busy": "2023-03-24T18:05:39.394561Z",
     "iopub.status.idle": "2023-03-24T18:05:39.476759Z",
     "shell.execute_reply": "2023-03-24T18:05:39.475443Z"
    },
    "papermill": {
     "duration": 0.129768,
     "end_time": "2023-03-24T18:05:39.479547",
     "exception": false,
     "start_time": "2023-03-24T18:05:39.349779",
     "status": "completed"
    },
    "tags": []
   },
   "outputs": [
    {
     "data": {
      "text/plain": [
       "Index(['grade', 'sub_grade', 'home_ownership', 'verification_status',\n",
       "       'issue_d', 'loan_status', 'purpose', 'earliest_cr_line',\n",
       "       'initial_list_status', 'application_type', 'address'],\n",
       "      dtype='object')"
      ]
     },
     "execution_count": 53,
     "metadata": {},
     "output_type": "execute_result"
    }
   ],
   "source": [
    "df.select_dtypes(include=[object]).columns"
   ]
  },
  {
   "cell_type": "markdown",
   "id": "573f7568",
   "metadata": {
    "papermill": {
     "duration": 0.044099,
     "end_time": "2023-03-24T18:05:39.567082",
     "exception": false,
     "start_time": "2023-03-24T18:05:39.522983",
     "status": "completed"
    },
    "tags": []
   },
   "source": [
    "Drop Grade because it's part of sub_grade"
   ]
  },
  {
   "cell_type": "code",
   "execution_count": 54,
   "id": "f2f8d08b",
   "metadata": {
    "execution": {
     "iopub.execute_input": "2023-03-24T18:05:39.657221Z",
     "iopub.status.busy": "2023-03-24T18:05:39.656801Z",
     "iopub.status.idle": "2023-03-24T18:05:39.741955Z",
     "shell.execute_reply": "2023-03-24T18:05:39.740616Z"
    },
    "papermill": {
     "duration": 0.132842,
     "end_time": "2023-03-24T18:05:39.744325",
     "exception": false,
     "start_time": "2023-03-24T18:05:39.611483",
     "status": "completed"
    },
    "tags": []
   },
   "outputs": [],
   "source": [
    "df.drop(columns=('grade'), axis=1, inplace=True)"
   ]
  },
  {
   "cell_type": "code",
   "execution_count": 55,
   "id": "d9e1c486",
   "metadata": {
    "execution": {
     "iopub.execute_input": "2023-03-24T18:05:39.834476Z",
     "iopub.status.busy": "2023-03-24T18:05:39.834070Z",
     "iopub.status.idle": "2023-03-24T18:05:39.888136Z",
     "shell.execute_reply": "2023-03-24T18:05:39.887071Z"
    },
    "papermill": {
     "duration": 0.102849,
     "end_time": "2023-03-24T18:05:39.890807",
     "exception": false,
     "start_time": "2023-03-24T18:05:39.787958",
     "status": "completed"
    },
    "tags": []
   },
   "outputs": [
    {
     "data": {
      "text/plain": [
       "Index(['sub_grade', 'home_ownership', 'verification_status', 'issue_d',\n",
       "       'loan_status', 'purpose', 'earliest_cr_line', 'initial_list_status',\n",
       "       'application_type', 'address'],\n",
       "      dtype='object')"
      ]
     },
     "execution_count": 55,
     "metadata": {},
     "output_type": "execute_result"
    }
   ],
   "source": [
    "df.select_dtypes(include=[object]).columns"
   ]
  },
  {
   "cell_type": "markdown",
   "id": "31dfd32d",
   "metadata": {
    "papermill": {
     "duration": 0.043623,
     "end_time": "2023-03-24T18:05:39.979794",
     "exception": false,
     "start_time": "2023-03-24T18:05:39.936171",
     "status": "completed"
    },
    "tags": []
   },
   "source": [
    "### Get those Dummies. \n",
    "Turn some features into dummie categorical column."
   ]
  },
  {
   "cell_type": "code",
   "execution_count": 56,
   "id": "cac68990",
   "metadata": {
    "execution": {
     "iopub.execute_input": "2023-03-24T18:05:40.070621Z",
     "iopub.status.busy": "2023-03-24T18:05:40.070188Z",
     "iopub.status.idle": "2023-03-24T18:05:40.122973Z",
     "shell.execute_reply": "2023-03-24T18:05:40.121440Z"
    },
    "papermill": {
     "duration": 0.10139,
     "end_time": "2023-03-24T18:05:40.125976",
     "exception": false,
     "start_time": "2023-03-24T18:05:40.024586",
     "status": "completed"
    },
    "tags": []
   },
   "outputs": [],
   "source": [
    "grade_dummies = pd.get_dummies(df['sub_grade'], drop_first=True)"
   ]
  },
  {
   "cell_type": "code",
   "execution_count": 57,
   "id": "97497255",
   "metadata": {
    "execution": {
     "iopub.execute_input": "2023-03-24T18:05:40.216814Z",
     "iopub.status.busy": "2023-03-24T18:05:40.215690Z",
     "iopub.status.idle": "2023-03-24T18:05:40.401174Z",
     "shell.execute_reply": "2023-03-24T18:05:40.399984Z"
    },
    "papermill": {
     "duration": 0.233812,
     "end_time": "2023-03-24T18:05:40.404191",
     "exception": false,
     "start_time": "2023-03-24T18:05:40.170379",
     "status": "completed"
    },
    "tags": []
   },
   "outputs": [],
   "source": [
    "df = pd.concat([df.drop('sub_grade', axis=1), grade_dummies], axis=1)"
   ]
  },
  {
   "cell_type": "code",
   "execution_count": 58,
   "id": "c997166a",
   "metadata": {
    "execution": {
     "iopub.execute_input": "2023-03-24T18:05:40.496070Z",
     "iopub.status.busy": "2023-03-24T18:05:40.495600Z",
     "iopub.status.idle": "2023-03-24T18:05:40.504157Z",
     "shell.execute_reply": "2023-03-24T18:05:40.502587Z"
    },
    "papermill": {
     "duration": 0.057613,
     "end_time": "2023-03-24T18:05:40.506953",
     "exception": false,
     "start_time": "2023-03-24T18:05:40.449340",
     "status": "completed"
    },
    "tags": []
   },
   "outputs": [
    {
     "data": {
      "text/plain": [
       "Index(['loan_amnt', 'term', 'int_rate', 'installment', 'home_ownership',\n",
       "       'annual_inc', 'verification_status', 'issue_d', 'loan_status',\n",
       "       'purpose', 'dti', 'earliest_cr_line', 'open_acc', 'pub_rec',\n",
       "       'revol_bal', 'revol_util', 'total_acc', 'initial_list_status',\n",
       "       'application_type', 'mort_acc', 'pub_rec_bankruptcies', 'address',\n",
       "       'loan_repaid', 'A2', 'A3', 'A4', 'A5', 'B1', 'B2', 'B3', 'B4', 'B5',\n",
       "       'C1', 'C2', 'C3', 'C4', 'C5', 'D1', 'D2', 'D3', 'D4', 'D5', 'E1', 'E2',\n",
       "       'E3', 'E4', 'E5', 'F1', 'F2', 'F3', 'F4', 'F5', 'G1', 'G2', 'G3', 'G4',\n",
       "       'G5'],\n",
       "      dtype='object')"
      ]
     },
     "execution_count": 58,
     "metadata": {},
     "output_type": "execute_result"
    }
   ],
   "source": [
    "df.columns"
   ]
  },
  {
   "cell_type": "code",
   "execution_count": 59,
   "id": "941dd2c3",
   "metadata": {
    "execution": {
     "iopub.execute_input": "2023-03-24T18:05:40.596626Z",
     "iopub.status.busy": "2023-03-24T18:05:40.595610Z",
     "iopub.status.idle": "2023-03-24T18:05:40.869268Z",
     "shell.execute_reply": "2023-03-24T18:05:40.867936Z"
    },
    "papermill": {
     "duration": 0.321607,
     "end_time": "2023-03-24T18:05:40.872235",
     "exception": false,
     "start_time": "2023-03-24T18:05:40.550628",
     "status": "completed"
    },
    "tags": []
   },
   "outputs": [],
   "source": [
    "other_dummies = pd.get_dummies(df[['verification_status','application_type','initial_list_status', 'purpose']], drop_first=True)"
   ]
  },
  {
   "cell_type": "code",
   "execution_count": 60,
   "id": "09a586d0",
   "metadata": {
    "execution": {
     "iopub.execute_input": "2023-03-24T18:05:40.963901Z",
     "iopub.status.busy": "2023-03-24T18:05:40.963453Z",
     "iopub.status.idle": "2023-03-24T18:05:41.070661Z",
     "shell.execute_reply": "2023-03-24T18:05:41.069579Z"
    },
    "papermill": {
     "duration": 0.157054,
     "end_time": "2023-03-24T18:05:41.073618",
     "exception": false,
     "start_time": "2023-03-24T18:05:40.916564",
     "status": "completed"
    },
    "tags": []
   },
   "outputs": [],
   "source": [
    "df = df.drop(columns=['verification_status','application_type','initial_list_status', 'purpose'], axis=1)\n",
    "df = pd.concat([df,other_dummies], axis=1)"
   ]
  },
  {
   "cell_type": "code",
   "execution_count": 61,
   "id": "ec3c532b",
   "metadata": {
    "execution": {
     "iopub.execute_input": "2023-03-24T18:05:41.163087Z",
     "iopub.status.busy": "2023-03-24T18:05:41.162322Z",
     "iopub.status.idle": "2023-03-24T18:05:41.188773Z",
     "shell.execute_reply": "2023-03-24T18:05:41.187472Z"
    },
    "papermill": {
     "duration": 0.074073,
     "end_time": "2023-03-24T18:05:41.191374",
     "exception": false,
     "start_time": "2023-03-24T18:05:41.117301",
     "status": "completed"
    },
    "tags": []
   },
   "outputs": [
    {
     "data": {
      "text/html": [
       "<div>\n",
       "<style scoped>\n",
       "    .dataframe tbody tr th:only-of-type {\n",
       "        vertical-align: middle;\n",
       "    }\n",
       "\n",
       "    .dataframe tbody tr th {\n",
       "        vertical-align: top;\n",
       "    }\n",
       "\n",
       "    .dataframe thead th {\n",
       "        text-align: right;\n",
       "    }\n",
       "</style>\n",
       "<table border=\"1\" class=\"dataframe\">\n",
       "  <thead>\n",
       "    <tr style=\"text-align: right;\">\n",
       "      <th></th>\n",
       "      <th>loan_amnt</th>\n",
       "      <th>term</th>\n",
       "      <th>int_rate</th>\n",
       "      <th>installment</th>\n",
       "      <th>home_ownership</th>\n",
       "      <th>annual_inc</th>\n",
       "      <th>issue_d</th>\n",
       "      <th>loan_status</th>\n",
       "      <th>dti</th>\n",
       "      <th>earliest_cr_line</th>\n",
       "      <th>...</th>\n",
       "      <th>purpose_home_improvement</th>\n",
       "      <th>purpose_house</th>\n",
       "      <th>purpose_major_purchase</th>\n",
       "      <th>purpose_medical</th>\n",
       "      <th>purpose_moving</th>\n",
       "      <th>purpose_other</th>\n",
       "      <th>purpose_renewable_energy</th>\n",
       "      <th>purpose_small_business</th>\n",
       "      <th>purpose_vacation</th>\n",
       "      <th>purpose_wedding</th>\n",
       "    </tr>\n",
       "  </thead>\n",
       "  <tbody>\n",
       "    <tr>\n",
       "      <th>0</th>\n",
       "      <td>10000.0</td>\n",
       "      <td>36</td>\n",
       "      <td>11.44</td>\n",
       "      <td>329.48</td>\n",
       "      <td>RENT</td>\n",
       "      <td>117000.0</td>\n",
       "      <td>Jan-2015</td>\n",
       "      <td>Fully Paid</td>\n",
       "      <td>26.24</td>\n",
       "      <td>Jun-1990</td>\n",
       "      <td>...</td>\n",
       "      <td>0</td>\n",
       "      <td>0</td>\n",
       "      <td>0</td>\n",
       "      <td>0</td>\n",
       "      <td>0</td>\n",
       "      <td>0</td>\n",
       "      <td>0</td>\n",
       "      <td>0</td>\n",
       "      <td>1</td>\n",
       "      <td>0</td>\n",
       "    </tr>\n",
       "    <tr>\n",
       "      <th>1</th>\n",
       "      <td>8000.0</td>\n",
       "      <td>36</td>\n",
       "      <td>11.99</td>\n",
       "      <td>265.68</td>\n",
       "      <td>MORTGAGE</td>\n",
       "      <td>65000.0</td>\n",
       "      <td>Jan-2015</td>\n",
       "      <td>Fully Paid</td>\n",
       "      <td>22.05</td>\n",
       "      <td>Jul-2004</td>\n",
       "      <td>...</td>\n",
       "      <td>0</td>\n",
       "      <td>0</td>\n",
       "      <td>0</td>\n",
       "      <td>0</td>\n",
       "      <td>0</td>\n",
       "      <td>0</td>\n",
       "      <td>0</td>\n",
       "      <td>0</td>\n",
       "      <td>0</td>\n",
       "      <td>0</td>\n",
       "    </tr>\n",
       "    <tr>\n",
       "      <th>2</th>\n",
       "      <td>15600.0</td>\n",
       "      <td>36</td>\n",
       "      <td>10.49</td>\n",
       "      <td>506.97</td>\n",
       "      <td>RENT</td>\n",
       "      <td>43057.0</td>\n",
       "      <td>Jan-2015</td>\n",
       "      <td>Fully Paid</td>\n",
       "      <td>12.79</td>\n",
       "      <td>Aug-2007</td>\n",
       "      <td>...</td>\n",
       "      <td>0</td>\n",
       "      <td>0</td>\n",
       "      <td>0</td>\n",
       "      <td>0</td>\n",
       "      <td>0</td>\n",
       "      <td>0</td>\n",
       "      <td>0</td>\n",
       "      <td>0</td>\n",
       "      <td>0</td>\n",
       "      <td>0</td>\n",
       "    </tr>\n",
       "    <tr>\n",
       "      <th>3</th>\n",
       "      <td>7200.0</td>\n",
       "      <td>36</td>\n",
       "      <td>6.49</td>\n",
       "      <td>220.65</td>\n",
       "      <td>RENT</td>\n",
       "      <td>54000.0</td>\n",
       "      <td>Nov-2014</td>\n",
       "      <td>Fully Paid</td>\n",
       "      <td>2.60</td>\n",
       "      <td>Sep-2006</td>\n",
       "      <td>...</td>\n",
       "      <td>0</td>\n",
       "      <td>0</td>\n",
       "      <td>0</td>\n",
       "      <td>0</td>\n",
       "      <td>0</td>\n",
       "      <td>0</td>\n",
       "      <td>0</td>\n",
       "      <td>0</td>\n",
       "      <td>0</td>\n",
       "      <td>0</td>\n",
       "    </tr>\n",
       "    <tr>\n",
       "      <th>4</th>\n",
       "      <td>24375.0</td>\n",
       "      <td>60</td>\n",
       "      <td>17.27</td>\n",
       "      <td>609.33</td>\n",
       "      <td>MORTGAGE</td>\n",
       "      <td>55000.0</td>\n",
       "      <td>Apr-2013</td>\n",
       "      <td>Charged Off</td>\n",
       "      <td>33.95</td>\n",
       "      <td>Mar-1999</td>\n",
       "      <td>...</td>\n",
       "      <td>0</td>\n",
       "      <td>0</td>\n",
       "      <td>0</td>\n",
       "      <td>0</td>\n",
       "      <td>0</td>\n",
       "      <td>0</td>\n",
       "      <td>0</td>\n",
       "      <td>0</td>\n",
       "      <td>0</td>\n",
       "      <td>0</td>\n",
       "    </tr>\n",
       "  </tbody>\n",
       "</table>\n",
       "<p>5 rows × 71 columns</p>\n",
       "</div>"
      ],
      "text/plain": [
       "   loan_amnt  term  int_rate  installment home_ownership  annual_inc  \\\n",
       "0    10000.0    36     11.44       329.48           RENT    117000.0   \n",
       "1     8000.0    36     11.99       265.68       MORTGAGE     65000.0   \n",
       "2    15600.0    36     10.49       506.97           RENT     43057.0   \n",
       "3     7200.0    36      6.49       220.65           RENT     54000.0   \n",
       "4    24375.0    60     17.27       609.33       MORTGAGE     55000.0   \n",
       "\n",
       "    issue_d  loan_status    dti earliest_cr_line  ...  \\\n",
       "0  Jan-2015   Fully Paid  26.24         Jun-1990  ...   \n",
       "1  Jan-2015   Fully Paid  22.05         Jul-2004  ...   \n",
       "2  Jan-2015   Fully Paid  12.79         Aug-2007  ...   \n",
       "3  Nov-2014   Fully Paid   2.60         Sep-2006  ...   \n",
       "4  Apr-2013  Charged Off  33.95         Mar-1999  ...   \n",
       "\n",
       "   purpose_home_improvement  purpose_house  purpose_major_purchase  \\\n",
       "0                         0              0                       0   \n",
       "1                         0              0                       0   \n",
       "2                         0              0                       0   \n",
       "3                         0              0                       0   \n",
       "4                         0              0                       0   \n",
       "\n",
       "   purpose_medical  purpose_moving  purpose_other  purpose_renewable_energy  \\\n",
       "0                0               0              0                         0   \n",
       "1                0               0              0                         0   \n",
       "2                0               0              0                         0   \n",
       "3                0               0              0                         0   \n",
       "4                0               0              0                         0   \n",
       "\n",
       "  purpose_small_business  purpose_vacation  purpose_wedding  \n",
       "0                      0                 1                0  \n",
       "1                      0                 0                0  \n",
       "2                      0                 0                0  \n",
       "3                      0                 0                0  \n",
       "4                      0                 0                0  \n",
       "\n",
       "[5 rows x 71 columns]"
      ]
     },
     "execution_count": 61,
     "metadata": {},
     "output_type": "execute_result"
    }
   ],
   "source": [
    "df.head()"
   ]
  },
  {
   "cell_type": "code",
   "execution_count": 62,
   "id": "b1baaa37",
   "metadata": {
    "execution": {
     "iopub.execute_input": "2023-03-24T18:05:41.281821Z",
     "iopub.status.busy": "2023-03-24T18:05:41.281368Z",
     "iopub.status.idle": "2023-03-24T18:05:41.319586Z",
     "shell.execute_reply": "2023-03-24T18:05:41.318062Z"
    },
    "papermill": {
     "duration": 0.08722,
     "end_time": "2023-03-24T18:05:41.322368",
     "exception": false,
     "start_time": "2023-03-24T18:05:41.235148",
     "status": "completed"
    },
    "tags": []
   },
   "outputs": [
    {
     "data": {
      "text/plain": [
       "MORTGAGE    198022\n",
       "RENT        159395\n",
       "OWN          37660\n",
       "OTHER          110\n",
       "NONE            29\n",
       "ANY              3\n",
       "Name: home_ownership, dtype: int64"
      ]
     },
     "execution_count": 62,
     "metadata": {},
     "output_type": "execute_result"
    }
   ],
   "source": [
    "df['home_ownership'].value_counts()"
   ]
  },
  {
   "cell_type": "code",
   "execution_count": 63,
   "id": "3a29f70d",
   "metadata": {
    "execution": {
     "iopub.execute_input": "2023-03-24T18:05:41.413486Z",
     "iopub.status.busy": "2023-03-24T18:05:41.413067Z",
     "iopub.status.idle": "2023-03-24T18:05:41.469626Z",
     "shell.execute_reply": "2023-03-24T18:05:41.468492Z"
    },
    "papermill": {
     "duration": 0.105105,
     "end_time": "2023-03-24T18:05:41.472554",
     "exception": false,
     "start_time": "2023-03-24T18:05:41.367449",
     "status": "completed"
    },
    "tags": []
   },
   "outputs": [],
   "source": [
    "df['home_ownership'] = df['home_ownership'].replace(['NONE','ANY'], 'OTHER')"
   ]
  },
  {
   "cell_type": "code",
   "execution_count": 64,
   "id": "bff8a773",
   "metadata": {
    "execution": {
     "iopub.execute_input": "2023-03-24T18:05:41.563615Z",
     "iopub.status.busy": "2023-03-24T18:05:41.562431Z",
     "iopub.status.idle": "2023-03-24T18:05:41.600474Z",
     "shell.execute_reply": "2023-03-24T18:05:41.598986Z"
    },
    "papermill": {
     "duration": 0.086712,
     "end_time": "2023-03-24T18:05:41.603204",
     "exception": false,
     "start_time": "2023-03-24T18:05:41.516492",
     "status": "completed"
    },
    "tags": []
   },
   "outputs": [
    {
     "data": {
      "text/plain": [
       "MORTGAGE    198022\n",
       "RENT        159395\n",
       "OWN          37660\n",
       "OTHER          142\n",
       "Name: home_ownership, dtype: int64"
      ]
     },
     "execution_count": 64,
     "metadata": {},
     "output_type": "execute_result"
    }
   ],
   "source": [
    "df['home_ownership'].value_counts()"
   ]
  },
  {
   "cell_type": "code",
   "execution_count": 65,
   "id": "a2b20aab",
   "metadata": {
    "execution": {
     "iopub.execute_input": "2023-03-24T18:05:41.696125Z",
     "iopub.status.busy": "2023-03-24T18:05:41.695690Z",
     "iopub.status.idle": "2023-03-24T18:05:41.736194Z",
     "shell.execute_reply": "2023-03-24T18:05:41.734979Z"
    },
    "papermill": {
     "duration": 0.091132,
     "end_time": "2023-03-24T18:05:41.739073",
     "exception": false,
     "start_time": "2023-03-24T18:05:41.647941",
     "status": "completed"
    },
    "tags": []
   },
   "outputs": [],
   "source": [
    "house_dummies = pd.get_dummies(df['home_ownership'], drop_first=True)"
   ]
  },
  {
   "cell_type": "code",
   "execution_count": 66,
   "id": "cb1fd345",
   "metadata": {
    "execution": {
     "iopub.execute_input": "2023-03-24T18:05:41.831462Z",
     "iopub.status.busy": "2023-03-24T18:05:41.831041Z",
     "iopub.status.idle": "2023-03-24T18:05:42.008984Z",
     "shell.execute_reply": "2023-03-24T18:05:42.007541Z"
    },
    "papermill": {
     "duration": 0.228204,
     "end_time": "2023-03-24T18:05:42.012022",
     "exception": false,
     "start_time": "2023-03-24T18:05:41.783818",
     "status": "completed"
    },
    "tags": []
   },
   "outputs": [],
   "source": [
    "df = df.drop(columns=['home_ownership'], axis=1)\n",
    "df = pd.concat([df,house_dummies], axis=1)"
   ]
  },
  {
   "cell_type": "code",
   "execution_count": 67,
   "id": "8a01bfc0",
   "metadata": {
    "execution": {
     "iopub.execute_input": "2023-03-24T18:05:42.102981Z",
     "iopub.status.busy": "2023-03-24T18:05:42.101903Z",
     "iopub.status.idle": "2023-03-24T18:05:42.128478Z",
     "shell.execute_reply": "2023-03-24T18:05:42.127113Z"
    },
    "papermill": {
     "duration": 0.074861,
     "end_time": "2023-03-24T18:05:42.131330",
     "exception": false,
     "start_time": "2023-03-24T18:05:42.056469",
     "status": "completed"
    },
    "tags": []
   },
   "outputs": [
    {
     "data": {
      "text/html": [
       "<div>\n",
       "<style scoped>\n",
       "    .dataframe tbody tr th:only-of-type {\n",
       "        vertical-align: middle;\n",
       "    }\n",
       "\n",
       "    .dataframe tbody tr th {\n",
       "        vertical-align: top;\n",
       "    }\n",
       "\n",
       "    .dataframe thead th {\n",
       "        text-align: right;\n",
       "    }\n",
       "</style>\n",
       "<table border=\"1\" class=\"dataframe\">\n",
       "  <thead>\n",
       "    <tr style=\"text-align: right;\">\n",
       "      <th></th>\n",
       "      <th>loan_amnt</th>\n",
       "      <th>term</th>\n",
       "      <th>int_rate</th>\n",
       "      <th>installment</th>\n",
       "      <th>annual_inc</th>\n",
       "      <th>issue_d</th>\n",
       "      <th>loan_status</th>\n",
       "      <th>dti</th>\n",
       "      <th>earliest_cr_line</th>\n",
       "      <th>open_acc</th>\n",
       "      <th>...</th>\n",
       "      <th>purpose_medical</th>\n",
       "      <th>purpose_moving</th>\n",
       "      <th>purpose_other</th>\n",
       "      <th>purpose_renewable_energy</th>\n",
       "      <th>purpose_small_business</th>\n",
       "      <th>purpose_vacation</th>\n",
       "      <th>purpose_wedding</th>\n",
       "      <th>OTHER</th>\n",
       "      <th>OWN</th>\n",
       "      <th>RENT</th>\n",
       "    </tr>\n",
       "  </thead>\n",
       "  <tbody>\n",
       "    <tr>\n",
       "      <th>0</th>\n",
       "      <td>10000.0</td>\n",
       "      <td>36</td>\n",
       "      <td>11.44</td>\n",
       "      <td>329.48</td>\n",
       "      <td>117000.0</td>\n",
       "      <td>Jan-2015</td>\n",
       "      <td>Fully Paid</td>\n",
       "      <td>26.24</td>\n",
       "      <td>Jun-1990</td>\n",
       "      <td>16.0</td>\n",
       "      <td>...</td>\n",
       "      <td>0</td>\n",
       "      <td>0</td>\n",
       "      <td>0</td>\n",
       "      <td>0</td>\n",
       "      <td>0</td>\n",
       "      <td>1</td>\n",
       "      <td>0</td>\n",
       "      <td>0</td>\n",
       "      <td>0</td>\n",
       "      <td>1</td>\n",
       "    </tr>\n",
       "    <tr>\n",
       "      <th>1</th>\n",
       "      <td>8000.0</td>\n",
       "      <td>36</td>\n",
       "      <td>11.99</td>\n",
       "      <td>265.68</td>\n",
       "      <td>65000.0</td>\n",
       "      <td>Jan-2015</td>\n",
       "      <td>Fully Paid</td>\n",
       "      <td>22.05</td>\n",
       "      <td>Jul-2004</td>\n",
       "      <td>17.0</td>\n",
       "      <td>...</td>\n",
       "      <td>0</td>\n",
       "      <td>0</td>\n",
       "      <td>0</td>\n",
       "      <td>0</td>\n",
       "      <td>0</td>\n",
       "      <td>0</td>\n",
       "      <td>0</td>\n",
       "      <td>0</td>\n",
       "      <td>0</td>\n",
       "      <td>0</td>\n",
       "    </tr>\n",
       "    <tr>\n",
       "      <th>2</th>\n",
       "      <td>15600.0</td>\n",
       "      <td>36</td>\n",
       "      <td>10.49</td>\n",
       "      <td>506.97</td>\n",
       "      <td>43057.0</td>\n",
       "      <td>Jan-2015</td>\n",
       "      <td>Fully Paid</td>\n",
       "      <td>12.79</td>\n",
       "      <td>Aug-2007</td>\n",
       "      <td>13.0</td>\n",
       "      <td>...</td>\n",
       "      <td>0</td>\n",
       "      <td>0</td>\n",
       "      <td>0</td>\n",
       "      <td>0</td>\n",
       "      <td>0</td>\n",
       "      <td>0</td>\n",
       "      <td>0</td>\n",
       "      <td>0</td>\n",
       "      <td>0</td>\n",
       "      <td>1</td>\n",
       "    </tr>\n",
       "    <tr>\n",
       "      <th>3</th>\n",
       "      <td>7200.0</td>\n",
       "      <td>36</td>\n",
       "      <td>6.49</td>\n",
       "      <td>220.65</td>\n",
       "      <td>54000.0</td>\n",
       "      <td>Nov-2014</td>\n",
       "      <td>Fully Paid</td>\n",
       "      <td>2.60</td>\n",
       "      <td>Sep-2006</td>\n",
       "      <td>6.0</td>\n",
       "      <td>...</td>\n",
       "      <td>0</td>\n",
       "      <td>0</td>\n",
       "      <td>0</td>\n",
       "      <td>0</td>\n",
       "      <td>0</td>\n",
       "      <td>0</td>\n",
       "      <td>0</td>\n",
       "      <td>0</td>\n",
       "      <td>0</td>\n",
       "      <td>1</td>\n",
       "    </tr>\n",
       "    <tr>\n",
       "      <th>4</th>\n",
       "      <td>24375.0</td>\n",
       "      <td>60</td>\n",
       "      <td>17.27</td>\n",
       "      <td>609.33</td>\n",
       "      <td>55000.0</td>\n",
       "      <td>Apr-2013</td>\n",
       "      <td>Charged Off</td>\n",
       "      <td>33.95</td>\n",
       "      <td>Mar-1999</td>\n",
       "      <td>13.0</td>\n",
       "      <td>...</td>\n",
       "      <td>0</td>\n",
       "      <td>0</td>\n",
       "      <td>0</td>\n",
       "      <td>0</td>\n",
       "      <td>0</td>\n",
       "      <td>0</td>\n",
       "      <td>0</td>\n",
       "      <td>0</td>\n",
       "      <td>0</td>\n",
       "      <td>0</td>\n",
       "    </tr>\n",
       "  </tbody>\n",
       "</table>\n",
       "<p>5 rows × 73 columns</p>\n",
       "</div>"
      ],
      "text/plain": [
       "   loan_amnt  term  int_rate  installment  annual_inc   issue_d  loan_status  \\\n",
       "0    10000.0    36     11.44       329.48    117000.0  Jan-2015   Fully Paid   \n",
       "1     8000.0    36     11.99       265.68     65000.0  Jan-2015   Fully Paid   \n",
       "2    15600.0    36     10.49       506.97     43057.0  Jan-2015   Fully Paid   \n",
       "3     7200.0    36      6.49       220.65     54000.0  Nov-2014   Fully Paid   \n",
       "4    24375.0    60     17.27       609.33     55000.0  Apr-2013  Charged Off   \n",
       "\n",
       "     dti earliest_cr_line  open_acc  ...  purpose_medical  purpose_moving  \\\n",
       "0  26.24         Jun-1990      16.0  ...                0               0   \n",
       "1  22.05         Jul-2004      17.0  ...                0               0   \n",
       "2  12.79         Aug-2007      13.0  ...                0               0   \n",
       "3   2.60         Sep-2006       6.0  ...                0               0   \n",
       "4  33.95         Mar-1999      13.0  ...                0               0   \n",
       "\n",
       "   purpose_other  purpose_renewable_energy  purpose_small_business  \\\n",
       "0              0                         0                       0   \n",
       "1              0                         0                       0   \n",
       "2              0                         0                       0   \n",
       "3              0                         0                       0   \n",
       "4              0                         0                       0   \n",
       "\n",
       "   purpose_vacation purpose_wedding  OTHER  OWN  RENT  \n",
       "0                 1               0      0    0     1  \n",
       "1                 0               0      0    0     0  \n",
       "2                 0               0      0    0     1  \n",
       "3                 0               0      0    0     1  \n",
       "4                 0               0      0    0     0  \n",
       "\n",
       "[5 rows x 73 columns]"
      ]
     },
     "execution_count": 67,
     "metadata": {},
     "output_type": "execute_result"
    }
   ],
   "source": [
    "df.head()"
   ]
  },
  {
   "cell_type": "code",
   "execution_count": 68,
   "id": "8823c1d2",
   "metadata": {
    "execution": {
     "iopub.execute_input": "2023-03-24T18:05:42.225754Z",
     "iopub.status.busy": "2023-03-24T18:05:42.225303Z",
     "iopub.status.idle": "2023-03-24T18:05:42.388315Z",
     "shell.execute_reply": "2023-03-24T18:05:42.387168Z"
    },
    "papermill": {
     "duration": 0.214689,
     "end_time": "2023-03-24T18:05:42.391151",
     "exception": false,
     "start_time": "2023-03-24T18:05:42.176462",
     "status": "completed"
    },
    "tags": []
   },
   "outputs": [],
   "source": [
    "df['zip_code'] = df['address'].str[-5:]\n",
    "#Extract the ZIP Code"
   ]
  },
  {
   "cell_type": "code",
   "execution_count": 69,
   "id": "284c98f6",
   "metadata": {
    "execution": {
     "iopub.execute_input": "2023-03-24T18:05:42.482704Z",
     "iopub.status.busy": "2023-03-24T18:05:42.482199Z",
     "iopub.status.idle": "2023-03-24T18:05:42.654697Z",
     "shell.execute_reply": "2023-03-24T18:05:42.653267Z"
    },
    "papermill": {
     "duration": 0.222321,
     "end_time": "2023-03-24T18:05:42.658082",
     "exception": false,
     "start_time": "2023-03-24T18:05:42.435761",
     "status": "completed"
    },
    "tags": []
   },
   "outputs": [],
   "source": [
    "df.drop(columns=['address'], inplace=True)"
   ]
  },
  {
   "cell_type": "code",
   "execution_count": 70,
   "id": "aae7e9ab",
   "metadata": {
    "execution": {
     "iopub.execute_input": "2023-03-24T18:05:42.750566Z",
     "iopub.status.busy": "2023-03-24T18:05:42.750111Z",
     "iopub.status.idle": "2023-03-24T18:05:42.890003Z",
     "shell.execute_reply": "2023-03-24T18:05:42.887525Z"
    },
    "papermill": {
     "duration": 0.189106,
     "end_time": "2023-03-24T18:05:42.893241",
     "exception": false,
     "start_time": "2023-03-24T18:05:42.704135",
     "status": "completed"
    },
    "tags": []
   },
   "outputs": [
    {
     "name": "stdout",
     "output_type": "stream",
     "text": [
      "<class 'pandas.core.frame.DataFrame'>\n",
      "Int64Index: 395219 entries, 0 to 396029\n",
      "Data columns (total 73 columns):\n",
      " #   Column                               Non-Null Count   Dtype  \n",
      "---  ------                               --------------   -----  \n",
      " 0   loan_amnt                            395219 non-null  float64\n",
      " 1   term                                 395219 non-null  int64  \n",
      " 2   int_rate                             395219 non-null  float64\n",
      " 3   installment                          395219 non-null  float64\n",
      " 4   annual_inc                           395219 non-null  float64\n",
      " 5   issue_d                              395219 non-null  object \n",
      " 6   loan_status                          395219 non-null  object \n",
      " 7   dti                                  395219 non-null  float64\n",
      " 8   earliest_cr_line                     395219 non-null  object \n",
      " 9   open_acc                             395219 non-null  float64\n",
      " 10  pub_rec                              395219 non-null  float64\n",
      " 11  revol_bal                            395219 non-null  float64\n",
      " 12  revol_util                           395219 non-null  float64\n",
      " 13  total_acc                            395219 non-null  float64\n",
      " 14  mort_acc                             395219 non-null  float64\n",
      " 15  pub_rec_bankruptcies                 395219 non-null  float64\n",
      " 16  loan_repaid                          395219 non-null  int64  \n",
      " 17  A2                                   395219 non-null  uint8  \n",
      " 18  A3                                   395219 non-null  uint8  \n",
      " 19  A4                                   395219 non-null  uint8  \n",
      " 20  A5                                   395219 non-null  uint8  \n",
      " 21  B1                                   395219 non-null  uint8  \n",
      " 22  B2                                   395219 non-null  uint8  \n",
      " 23  B3                                   395219 non-null  uint8  \n",
      " 24  B4                                   395219 non-null  uint8  \n",
      " 25  B5                                   395219 non-null  uint8  \n",
      " 26  C1                                   395219 non-null  uint8  \n",
      " 27  C2                                   395219 non-null  uint8  \n",
      " 28  C3                                   395219 non-null  uint8  \n",
      " 29  C4                                   395219 non-null  uint8  \n",
      " 30  C5                                   395219 non-null  uint8  \n",
      " 31  D1                                   395219 non-null  uint8  \n",
      " 32  D2                                   395219 non-null  uint8  \n",
      " 33  D3                                   395219 non-null  uint8  \n",
      " 34  D4                                   395219 non-null  uint8  \n",
      " 35  D5                                   395219 non-null  uint8  \n",
      " 36  E1                                   395219 non-null  uint8  \n",
      " 37  E2                                   395219 non-null  uint8  \n",
      " 38  E3                                   395219 non-null  uint8  \n",
      " 39  E4                                   395219 non-null  uint8  \n",
      " 40  E5                                   395219 non-null  uint8  \n",
      " 41  F1                                   395219 non-null  uint8  \n",
      " 42  F2                                   395219 non-null  uint8  \n",
      " 43  F3                                   395219 non-null  uint8  \n",
      " 44  F4                                   395219 non-null  uint8  \n",
      " 45  F5                                   395219 non-null  uint8  \n",
      " 46  G1                                   395219 non-null  uint8  \n",
      " 47  G2                                   395219 non-null  uint8  \n",
      " 48  G3                                   395219 non-null  uint8  \n",
      " 49  G4                                   395219 non-null  uint8  \n",
      " 50  G5                                   395219 non-null  uint8  \n",
      " 51  verification_status_Source Verified  395219 non-null  uint8  \n",
      " 52  verification_status_Verified         395219 non-null  uint8  \n",
      " 53  application_type_INDIVIDUAL          395219 non-null  uint8  \n",
      " 54  application_type_JOINT               395219 non-null  uint8  \n",
      " 55  initial_list_status_w                395219 non-null  uint8  \n",
      " 56  purpose_credit_card                  395219 non-null  uint8  \n",
      " 57  purpose_debt_consolidation           395219 non-null  uint8  \n",
      " 58  purpose_educational                  395219 non-null  uint8  \n",
      " 59  purpose_home_improvement             395219 non-null  uint8  \n",
      " 60  purpose_house                        395219 non-null  uint8  \n",
      " 61  purpose_major_purchase               395219 non-null  uint8  \n",
      " 62  purpose_medical                      395219 non-null  uint8  \n",
      " 63  purpose_moving                       395219 non-null  uint8  \n",
      " 64  purpose_other                        395219 non-null  uint8  \n",
      " 65  purpose_renewable_energy             395219 non-null  uint8  \n",
      " 66  purpose_small_business               395219 non-null  uint8  \n",
      " 67  purpose_vacation                     395219 non-null  uint8  \n",
      " 68  purpose_wedding                      395219 non-null  uint8  \n",
      " 69  OTHER                                395219 non-null  uint8  \n",
      " 70  OWN                                  395219 non-null  uint8  \n",
      " 71  RENT                                 395219 non-null  uint8  \n",
      " 72  zip_code                             395219 non-null  object \n",
      "dtypes: float64(12), int64(2), object(4), uint8(55)\n",
      "memory usage: 78.0+ MB\n"
     ]
    }
   ],
   "source": [
    "df.info()"
   ]
  },
  {
   "cell_type": "code",
   "execution_count": 71,
   "id": "0f5f25aa",
   "metadata": {
    "execution": {
     "iopub.execute_input": "2023-03-24T18:05:42.986011Z",
     "iopub.status.busy": "2023-03-24T18:05:42.984916Z",
     "iopub.status.idle": "2023-03-24T18:05:43.027257Z",
     "shell.execute_reply": "2023-03-24T18:05:43.025852Z"
    },
    "papermill": {
     "duration": 0.091418,
     "end_time": "2023-03-24T18:05:43.030034",
     "exception": false,
     "start_time": "2023-03-24T18:05:42.938616",
     "status": "completed"
    },
    "tags": []
   },
   "outputs": [],
   "source": [
    "zip_dummies = pd.get_dummies(df['zip_code'], drop_first=True)"
   ]
  },
  {
   "cell_type": "code",
   "execution_count": 72,
   "id": "af4ff812",
   "metadata": {
    "execution": {
     "iopub.execute_input": "2023-03-24T18:05:43.120958Z",
     "iopub.status.busy": "2023-03-24T18:05:43.120442Z",
     "iopub.status.idle": "2023-03-24T18:05:43.209711Z",
     "shell.execute_reply": "2023-03-24T18:05:43.208456Z"
    },
    "papermill": {
     "duration": 0.138373,
     "end_time": "2023-03-24T18:05:43.212756",
     "exception": false,
     "start_time": "2023-03-24T18:05:43.074383",
     "status": "completed"
    },
    "tags": []
   },
   "outputs": [],
   "source": [
    "df = df.drop(columns=['zip_code'], axis=1)\n",
    "df = pd.concat([df,zip_dummies], axis=1)"
   ]
  },
  {
   "cell_type": "code",
   "execution_count": 73,
   "id": "2b71413d",
   "metadata": {
    "execution": {
     "iopub.execute_input": "2023-03-24T18:05:43.304109Z",
     "iopub.status.busy": "2023-03-24T18:05:43.303634Z",
     "iopub.status.idle": "2023-03-24T18:05:43.310162Z",
     "shell.execute_reply": "2023-03-24T18:05:43.308777Z"
    },
    "papermill": {
     "duration": 0.056391,
     "end_time": "2023-03-24T18:05:43.313527",
     "exception": false,
     "start_time": "2023-03-24T18:05:43.257136",
     "status": "completed"
    },
    "tags": []
   },
   "outputs": [
    {
     "name": "stdout",
     "output_type": "stream",
     "text": [
      "The month which the loan was funded\n"
     ]
    }
   ],
   "source": [
    "feat_info('issue_d')"
   ]
  },
  {
   "cell_type": "markdown",
   "id": "45ed0cce",
   "metadata": {
    "papermill": {
     "duration": 0.046705,
     "end_time": "2023-03-24T18:05:43.406811",
     "exception": false,
     "start_time": "2023-03-24T18:05:43.360106",
     "status": "completed"
    },
    "tags": []
   },
   "source": [
    "We would not know if the loan was funded or not, so this feature will be dropped to prevent data leakage."
   ]
  },
  {
   "cell_type": "code",
   "execution_count": 74,
   "id": "0cfde353",
   "metadata": {
    "execution": {
     "iopub.execute_input": "2023-03-24T18:05:43.502141Z",
     "iopub.status.busy": "2023-03-24T18:05:43.501667Z",
     "iopub.status.idle": "2023-03-24T18:05:43.600385Z",
     "shell.execute_reply": "2023-03-24T18:05:43.599163Z"
    },
    "papermill": {
     "duration": 0.151392,
     "end_time": "2023-03-24T18:05:43.603368",
     "exception": false,
     "start_time": "2023-03-24T18:05:43.451976",
     "status": "completed"
    },
    "tags": []
   },
   "outputs": [],
   "source": [
    "df = df.drop(columns=['issue_d'], axis=1)"
   ]
  },
  {
   "cell_type": "code",
   "execution_count": 75,
   "id": "fc6fb630",
   "metadata": {
    "execution": {
     "iopub.execute_input": "2023-03-24T18:05:43.698759Z",
     "iopub.status.busy": "2023-03-24T18:05:43.697379Z",
     "iopub.status.idle": "2023-03-24T18:05:43.704574Z",
     "shell.execute_reply": "2023-03-24T18:05:43.703167Z"
    },
    "papermill": {
     "duration": 0.0573,
     "end_time": "2023-03-24T18:05:43.707897",
     "exception": false,
     "start_time": "2023-03-24T18:05:43.650597",
     "status": "completed"
    },
    "tags": []
   },
   "outputs": [
    {
     "name": "stdout",
     "output_type": "stream",
     "text": [
      "The month the borrower's earliest reported credit line was opened\n"
     ]
    }
   ],
   "source": [
    "feat_info('earliest_cr_line')"
   ]
  },
  {
   "cell_type": "code",
   "execution_count": 76,
   "id": "58c81c46",
   "metadata": {
    "execution": {
     "iopub.execute_input": "2023-03-24T18:05:43.802112Z",
     "iopub.status.busy": "2023-03-24T18:05:43.801287Z",
     "iopub.status.idle": "2023-03-24T18:05:43.837123Z",
     "shell.execute_reply": "2023-03-24T18:05:43.835770Z"
    },
    "papermill": {
     "duration": 0.085571,
     "end_time": "2023-03-24T18:05:43.840124",
     "exception": false,
     "start_time": "2023-03-24T18:05:43.754553",
     "status": "completed"
    },
    "tags": []
   },
   "outputs": [
    {
     "data": {
      "text/plain": [
       "Oct-2000    3013\n",
       "Aug-2000    2930\n",
       "Oct-2001    2890\n",
       "Aug-2001    2879\n",
       "Nov-2000    2729\n",
       "            ... \n",
       "Jul-1955       1\n",
       "Oct-1950       1\n",
       "May-1958       1\n",
       "Nov-1955       1\n",
       "Aug-1959       1\n",
       "Name: earliest_cr_line, Length: 684, dtype: int64"
      ]
     },
     "execution_count": 76,
     "metadata": {},
     "output_type": "execute_result"
    }
   ],
   "source": [
    "df['earliest_cr_line'].value_counts()"
   ]
  },
  {
   "cell_type": "code",
   "execution_count": 77,
   "id": "6fb3f7d2",
   "metadata": {
    "execution": {
     "iopub.execute_input": "2023-03-24T18:05:43.933368Z",
     "iopub.status.busy": "2023-03-24T18:05:43.932609Z",
     "iopub.status.idle": "2023-03-24T18:05:44.185395Z",
     "shell.execute_reply": "2023-03-24T18:05:44.183965Z"
    },
    "papermill": {
     "duration": 0.302684,
     "end_time": "2023-03-24T18:05:44.188618",
     "exception": false,
     "start_time": "2023-03-24T18:05:43.885934",
     "status": "completed"
    },
    "tags": []
   },
   "outputs": [],
   "source": [
    "df['earliest_cr_year'] = df['earliest_cr_line'].apply(lambda date:int(date[-4:]))\n",
    "#Extract year from earliest credit line"
   ]
  },
  {
   "cell_type": "code",
   "execution_count": 78,
   "id": "6fee5330",
   "metadata": {
    "execution": {
     "iopub.execute_input": "2023-03-24T18:05:44.285115Z",
     "iopub.status.busy": "2023-03-24T18:05:44.283835Z",
     "iopub.status.idle": "2023-03-24T18:05:44.340583Z",
     "shell.execute_reply": "2023-03-24T18:05:44.339247Z"
    },
    "papermill": {
     "duration": 0.10764,
     "end_time": "2023-03-24T18:05:44.343455",
     "exception": false,
     "start_time": "2023-03-24T18:05:44.235815",
     "status": "completed"
    },
    "tags": []
   },
   "outputs": [],
   "source": [
    "df.drop(columns=['earliest_cr_line'], axis=1, inplace=True)"
   ]
  },
  {
   "cell_type": "code",
   "execution_count": 79,
   "id": "92f85e43",
   "metadata": {
    "execution": {
     "iopub.execute_input": "2023-03-24T18:05:44.436831Z",
     "iopub.status.busy": "2023-03-24T18:05:44.435476Z",
     "iopub.status.idle": "2023-03-24T18:05:44.525296Z",
     "shell.execute_reply": "2023-03-24T18:05:44.522157Z"
    },
    "papermill": {
     "duration": 0.140611,
     "end_time": "2023-03-24T18:05:44.529155",
     "exception": false,
     "start_time": "2023-03-24T18:05:44.388544",
     "status": "completed"
    },
    "tags": []
   },
   "outputs": [
    {
     "name": "stdout",
     "output_type": "stream",
     "text": [
      "<class 'pandas.core.frame.DataFrame'>\n",
      "Int64Index: 395219 entries, 0 to 396029\n",
      "Data columns (total 80 columns):\n",
      " #   Column                               Non-Null Count   Dtype  \n",
      "---  ------                               --------------   -----  \n",
      " 0   loan_amnt                            395219 non-null  float64\n",
      " 1   term                                 395219 non-null  int64  \n",
      " 2   int_rate                             395219 non-null  float64\n",
      " 3   installment                          395219 non-null  float64\n",
      " 4   annual_inc                           395219 non-null  float64\n",
      " 5   loan_status                          395219 non-null  object \n",
      " 6   dti                                  395219 non-null  float64\n",
      " 7   open_acc                             395219 non-null  float64\n",
      " 8   pub_rec                              395219 non-null  float64\n",
      " 9   revol_bal                            395219 non-null  float64\n",
      " 10  revol_util                           395219 non-null  float64\n",
      " 11  total_acc                            395219 non-null  float64\n",
      " 12  mort_acc                             395219 non-null  float64\n",
      " 13  pub_rec_bankruptcies                 395219 non-null  float64\n",
      " 14  loan_repaid                          395219 non-null  int64  \n",
      " 15  A2                                   395219 non-null  uint8  \n",
      " 16  A3                                   395219 non-null  uint8  \n",
      " 17  A4                                   395219 non-null  uint8  \n",
      " 18  A5                                   395219 non-null  uint8  \n",
      " 19  B1                                   395219 non-null  uint8  \n",
      " 20  B2                                   395219 non-null  uint8  \n",
      " 21  B3                                   395219 non-null  uint8  \n",
      " 22  B4                                   395219 non-null  uint8  \n",
      " 23  B5                                   395219 non-null  uint8  \n",
      " 24  C1                                   395219 non-null  uint8  \n",
      " 25  C2                                   395219 non-null  uint8  \n",
      " 26  C3                                   395219 non-null  uint8  \n",
      " 27  C4                                   395219 non-null  uint8  \n",
      " 28  C5                                   395219 non-null  uint8  \n",
      " 29  D1                                   395219 non-null  uint8  \n",
      " 30  D2                                   395219 non-null  uint8  \n",
      " 31  D3                                   395219 non-null  uint8  \n",
      " 32  D4                                   395219 non-null  uint8  \n",
      " 33  D5                                   395219 non-null  uint8  \n",
      " 34  E1                                   395219 non-null  uint8  \n",
      " 35  E2                                   395219 non-null  uint8  \n",
      " 36  E3                                   395219 non-null  uint8  \n",
      " 37  E4                                   395219 non-null  uint8  \n",
      " 38  E5                                   395219 non-null  uint8  \n",
      " 39  F1                                   395219 non-null  uint8  \n",
      " 40  F2                                   395219 non-null  uint8  \n",
      " 41  F3                                   395219 non-null  uint8  \n",
      " 42  F4                                   395219 non-null  uint8  \n",
      " 43  F5                                   395219 non-null  uint8  \n",
      " 44  G1                                   395219 non-null  uint8  \n",
      " 45  G2                                   395219 non-null  uint8  \n",
      " 46  G3                                   395219 non-null  uint8  \n",
      " 47  G4                                   395219 non-null  uint8  \n",
      " 48  G5                                   395219 non-null  uint8  \n",
      " 49  verification_status_Source Verified  395219 non-null  uint8  \n",
      " 50  verification_status_Verified         395219 non-null  uint8  \n",
      " 51  application_type_INDIVIDUAL          395219 non-null  uint8  \n",
      " 52  application_type_JOINT               395219 non-null  uint8  \n",
      " 53  initial_list_status_w                395219 non-null  uint8  \n",
      " 54  purpose_credit_card                  395219 non-null  uint8  \n",
      " 55  purpose_debt_consolidation           395219 non-null  uint8  \n",
      " 56  purpose_educational                  395219 non-null  uint8  \n",
      " 57  purpose_home_improvement             395219 non-null  uint8  \n",
      " 58  purpose_house                        395219 non-null  uint8  \n",
      " 59  purpose_major_purchase               395219 non-null  uint8  \n",
      " 60  purpose_medical                      395219 non-null  uint8  \n",
      " 61  purpose_moving                       395219 non-null  uint8  \n",
      " 62  purpose_other                        395219 non-null  uint8  \n",
      " 63  purpose_renewable_energy             395219 non-null  uint8  \n",
      " 64  purpose_small_business               395219 non-null  uint8  \n",
      " 65  purpose_vacation                     395219 non-null  uint8  \n",
      " 66  purpose_wedding                      395219 non-null  uint8  \n",
      " 67  OTHER                                395219 non-null  uint8  \n",
      " 68  OWN                                  395219 non-null  uint8  \n",
      " 69  RENT                                 395219 non-null  uint8  \n",
      " 70  05113                                395219 non-null  uint8  \n",
      " 71  11650                                395219 non-null  uint8  \n",
      " 72  22690                                395219 non-null  uint8  \n",
      " 73  29597                                395219 non-null  uint8  \n",
      " 74  30723                                395219 non-null  uint8  \n",
      " 75  48052                                395219 non-null  uint8  \n",
      " 76  70466                                395219 non-null  uint8  \n",
      " 77  86630                                395219 non-null  uint8  \n",
      " 78  93700                                395219 non-null  uint8  \n",
      " 79  earliest_cr_year                     395219 non-null  int64  \n",
      "dtypes: float64(12), int64(3), object(1), uint8(64)\n",
      "memory usage: 75.4+ MB\n"
     ]
    }
   ],
   "source": [
    "df.info()"
   ]
  },
  {
   "cell_type": "markdown",
   "id": "5ea88528",
   "metadata": {
    "papermill": {
     "duration": 0.044897,
     "end_time": "2023-03-24T18:05:44.619910",
     "exception": false,
     "start_time": "2023-03-24T18:05:44.575013",
     "status": "completed"
    },
    "tags": []
   },
   "source": [
    "# Model Creation\n",
    "## Train Test Split\n",
    "\n",
    "The work will be done comparing a NN with early stopping and one with Droupout feature."
   ]
  },
  {
   "cell_type": "code",
   "execution_count": 80,
   "id": "dce3def0",
   "metadata": {
    "execution": {
     "iopub.execute_input": "2023-03-24T18:05:44.712970Z",
     "iopub.status.busy": "2023-03-24T18:05:44.712212Z",
     "iopub.status.idle": "2023-03-24T18:05:44.954711Z",
     "shell.execute_reply": "2023-03-24T18:05:44.953331Z"
    },
    "papermill": {
     "duration": 0.292794,
     "end_time": "2023-03-24T18:05:44.957649",
     "exception": false,
     "start_time": "2023-03-24T18:05:44.664855",
     "status": "completed"
    },
    "tags": []
   },
   "outputs": [],
   "source": [
    "from sklearn.model_selection import train_test_split"
   ]
  },
  {
   "cell_type": "code",
   "execution_count": 81,
   "id": "b32c9d28",
   "metadata": {
    "execution": {
     "iopub.execute_input": "2023-03-24T18:05:45.052541Z",
     "iopub.status.busy": "2023-03-24T18:05:45.052065Z",
     "iopub.status.idle": "2023-03-24T18:05:45.088198Z",
     "shell.execute_reply": "2023-03-24T18:05:45.086805Z"
    },
    "papermill": {
     "duration": 0.087847,
     "end_time": "2023-03-24T18:05:45.091081",
     "exception": false,
     "start_time": "2023-03-24T18:05:45.003234",
     "status": "completed"
    },
    "tags": []
   },
   "outputs": [],
   "source": [
    "df.drop(columns=['loan_status'], axis=1, inplace=True)"
   ]
  },
  {
   "cell_type": "code",
   "execution_count": 82,
   "id": "b2e0f06c",
   "metadata": {
    "execution": {
     "iopub.execute_input": "2023-03-24T18:05:45.183643Z",
     "iopub.status.busy": "2023-03-24T18:05:45.182821Z",
     "iopub.status.idle": "2023-03-24T18:05:45.354287Z",
     "shell.execute_reply": "2023-03-24T18:05:45.352972Z"
    },
    "papermill": {
     "duration": 0.220996,
     "end_time": "2023-03-24T18:05:45.357216",
     "exception": false,
     "start_time": "2023-03-24T18:05:45.136220",
     "status": "completed"
    },
    "tags": []
   },
   "outputs": [],
   "source": [
    "X = df.drop(columns=['loan_repaid'], axis=1).values\n",
    "y = df['loan_repaid'].values"
   ]
  },
  {
   "cell_type": "code",
   "execution_count": 83,
   "id": "e8dffa82",
   "metadata": {
    "execution": {
     "iopub.execute_input": "2023-03-24T18:05:45.450192Z",
     "iopub.status.busy": "2023-03-24T18:05:45.449750Z",
     "iopub.status.idle": "2023-03-24T18:05:45.915548Z",
     "shell.execute_reply": "2023-03-24T18:05:45.914137Z"
    },
    "papermill": {
     "duration": 0.515019,
     "end_time": "2023-03-24T18:05:45.918319",
     "exception": false,
     "start_time": "2023-03-24T18:05:45.403300",
     "status": "completed"
    },
    "tags": []
   },
   "outputs": [],
   "source": [
    "X_train, X_test, y_train, y_test = train_test_split(X, y, test_size=0.3, random_state=101)"
   ]
  },
  {
   "cell_type": "markdown",
   "id": "afb96b14",
   "metadata": {
    "execution": {
     "iopub.execute_input": "2022-05-23T23:06:29.925563Z",
     "iopub.status.busy": "2022-05-23T23:06:29.924943Z",
     "iopub.status.idle": "2022-05-23T23:06:29.928839Z",
     "shell.execute_reply": "2022-05-23T23:06:29.928143Z",
     "shell.execute_reply.started": "2022-05-23T23:06:29.92553Z"
    },
    "papermill": {
     "duration": 0.044823,
     "end_time": "2023-03-24T18:05:46.009259",
     "exception": false,
     "start_time": "2023-03-24T18:05:45.964436",
     "status": "completed"
    },
    "tags": []
   },
   "source": [
    "## Normalize data"
   ]
  },
  {
   "cell_type": "code",
   "execution_count": 84,
   "id": "ed179917",
   "metadata": {
    "execution": {
     "iopub.execute_input": "2023-03-24T18:05:46.104156Z",
     "iopub.status.busy": "2023-03-24T18:05:46.103665Z",
     "iopub.status.idle": "2023-03-24T18:05:46.109601Z",
     "shell.execute_reply": "2023-03-24T18:05:46.108278Z"
    },
    "papermill": {
     "duration": 0.05547,
     "end_time": "2023-03-24T18:05:46.112195",
     "exception": false,
     "start_time": "2023-03-24T18:05:46.056725",
     "status": "completed"
    },
    "tags": []
   },
   "outputs": [],
   "source": [
    "from sklearn.preprocessing import MinMaxScaler"
   ]
  },
  {
   "cell_type": "code",
   "execution_count": 85,
   "id": "c5fe62fd",
   "metadata": {
    "execution": {
     "iopub.execute_input": "2023-03-24T18:05:46.205953Z",
     "iopub.status.busy": "2023-03-24T18:05:46.205331Z",
     "iopub.status.idle": "2023-03-24T18:05:46.211018Z",
     "shell.execute_reply": "2023-03-24T18:05:46.209685Z"
    },
    "papermill": {
     "duration": 0.055507,
     "end_time": "2023-03-24T18:05:46.213385",
     "exception": false,
     "start_time": "2023-03-24T18:05:46.157878",
     "status": "completed"
    },
    "tags": []
   },
   "outputs": [],
   "source": [
    "scaler = MinMaxScaler()"
   ]
  },
  {
   "cell_type": "code",
   "execution_count": 86,
   "id": "c4092e72",
   "metadata": {
    "execution": {
     "iopub.execute_input": "2023-03-24T18:05:46.306953Z",
     "iopub.status.busy": "2023-03-24T18:05:46.306195Z",
     "iopub.status.idle": "2023-03-24T18:05:46.556872Z",
     "shell.execute_reply": "2023-03-24T18:05:46.555480Z"
    },
    "papermill": {
     "duration": 0.300986,
     "end_time": "2023-03-24T18:05:46.559714",
     "exception": false,
     "start_time": "2023-03-24T18:05:46.258728",
     "status": "completed"
    },
    "tags": []
   },
   "outputs": [],
   "source": [
    "X_train = scaler.fit_transform(X_train)"
   ]
  },
  {
   "cell_type": "code",
   "execution_count": 87,
   "id": "7a6c9bd2",
   "metadata": {
    "execution": {
     "iopub.execute_input": "2023-03-24T18:05:46.654076Z",
     "iopub.status.busy": "2023-03-24T18:05:46.652810Z",
     "iopub.status.idle": "2023-03-24T18:05:46.720692Z",
     "shell.execute_reply": "2023-03-24T18:05:46.719076Z"
    },
    "papermill": {
     "duration": 0.119085,
     "end_time": "2023-03-24T18:05:46.724194",
     "exception": false,
     "start_time": "2023-03-24T18:05:46.605109",
     "status": "completed"
    },
    "tags": []
   },
   "outputs": [],
   "source": [
    "X_test = scaler.transform(X_test)"
   ]
  },
  {
   "cell_type": "code",
   "execution_count": 88,
   "id": "64d3b926",
   "metadata": {
    "execution": {
     "iopub.execute_input": "2023-03-24T18:05:46.818660Z",
     "iopub.status.busy": "2023-03-24T18:05:46.817862Z",
     "iopub.status.idle": "2023-03-24T18:05:56.268289Z",
     "shell.execute_reply": "2023-03-24T18:05:56.267208Z"
    },
    "papermill": {
     "duration": 9.500302,
     "end_time": "2023-03-24T18:05:56.271242",
     "exception": false,
     "start_time": "2023-03-24T18:05:46.770940",
     "status": "completed"
    },
    "tags": []
   },
   "outputs": [],
   "source": [
    "import tensorflow as tf\n",
    "from tensorflow.keras.models import Sequential\n",
    "from tensorflow.keras.layers import Dense, Dropout, Activation\n",
    "from tensorflow.keras.callbacks import EarlyStopping"
   ]
  },
  {
   "cell_type": "markdown",
   "id": "2e5a0650",
   "metadata": {
    "papermill": {
     "duration": 0.045333,
     "end_time": "2023-03-24T18:05:56.363410",
     "exception": false,
     "start_time": "2023-03-24T18:05:56.318077",
     "status": "completed"
    },
    "tags": []
   },
   "source": [
    "## Will do early stopping and later on add drop out to compare results"
   ]
  },
  {
   "cell_type": "code",
   "execution_count": 89,
   "id": "7a107b94",
   "metadata": {
    "execution": {
     "iopub.execute_input": "2023-03-24T18:05:56.457311Z",
     "iopub.status.busy": "2023-03-24T18:05:56.456349Z",
     "iopub.status.idle": "2023-03-24T18:05:56.463921Z",
     "shell.execute_reply": "2023-03-24T18:05:56.463005Z"
    },
    "papermill": {
     "duration": 0.056628,
     "end_time": "2023-03-24T18:05:56.466066",
     "exception": false,
     "start_time": "2023-03-24T18:05:56.409438",
     "status": "completed"
    },
    "tags": []
   },
   "outputs": [
    {
     "data": {
      "text/plain": [
       "(395219, 79)"
      ]
     },
     "execution_count": 89,
     "metadata": {},
     "output_type": "execute_result"
    }
   ],
   "source": [
    "df.shape"
   ]
  },
  {
   "cell_type": "code",
   "execution_count": 90,
   "id": "e0c8db6f",
   "metadata": {
    "execution": {
     "iopub.execute_input": "2023-03-24T18:05:56.560706Z",
     "iopub.status.busy": "2023-03-24T18:05:56.560020Z",
     "iopub.status.idle": "2023-03-24T18:05:56.675903Z",
     "shell.execute_reply": "2023-03-24T18:05:56.674630Z"
    },
    "papermill": {
     "duration": 0.167346,
     "end_time": "2023-03-24T18:05:56.679149",
     "exception": false,
     "start_time": "2023-03-24T18:05:56.511803",
     "status": "completed"
    },
    "tags": []
   },
   "outputs": [],
   "source": [
    "model = Sequential()\n",
    "earlystopping = EarlyStopping()"
   ]
  },
  {
   "cell_type": "code",
   "execution_count": 91,
   "id": "8dafe45e",
   "metadata": {
    "execution": {
     "iopub.execute_input": "2023-03-24T18:05:56.774520Z",
     "iopub.status.busy": "2023-03-24T18:05:56.774092Z",
     "iopub.status.idle": "2023-03-24T18:05:56.780006Z",
     "shell.execute_reply": "2023-03-24T18:05:56.778721Z"
    },
    "papermill": {
     "duration": 0.055345,
     "end_time": "2023-03-24T18:05:56.782589",
     "exception": false,
     "start_time": "2023-03-24T18:05:56.727244",
     "status": "completed"
    },
    "tags": []
   },
   "outputs": [],
   "source": [
    "early_stop = EarlyStopping(monitor='val_loss', mode='min', verbose=1, patience=25)"
   ]
  },
  {
   "cell_type": "code",
   "execution_count": 92,
   "id": "6d16b7e0",
   "metadata": {
    "execution": {
     "iopub.execute_input": "2023-03-24T18:05:56.877850Z",
     "iopub.status.busy": "2023-03-24T18:05:56.877404Z",
     "iopub.status.idle": "2023-03-24T18:05:56.922591Z",
     "shell.execute_reply": "2023-03-24T18:05:56.921583Z"
    },
    "papermill": {
     "duration": 0.096201,
     "end_time": "2023-03-24T18:05:56.925309",
     "exception": false,
     "start_time": "2023-03-24T18:05:56.829108",
     "status": "completed"
    },
    "tags": []
   },
   "outputs": [],
   "source": [
    "# https://stats.stackexchange.com/questions/181/how-to-choose-the-number-of-hidden-layers-and-nodes-in-a-feedforward-neural-netw\n",
    "\n",
    "model.add(Dense(units=79,activation='relu'))\n",
    "\n",
    "model.add(Dense(units=39,activation='relu'))\n",
    "\n",
    "model.add(Dense(units=19,activation='relu'))\n",
    "\n",
    "model.add(Dense(units=1,activation='sigmoid'))\n",
    "\n",
    "# For a binary classification problem\n",
    "model.compile(loss='binary_crossentropy', optimizer='adam')"
   ]
  },
  {
   "cell_type": "code",
   "execution_count": 93,
   "id": "811b36c1",
   "metadata": {
    "execution": {
     "iopub.execute_input": "2023-03-24T18:05:57.020038Z",
     "iopub.status.busy": "2023-03-24T18:05:57.018751Z",
     "iopub.status.idle": "2023-03-24T18:08:14.017338Z",
     "shell.execute_reply": "2023-03-24T18:08:14.015595Z"
    },
    "papermill": {
     "duration": 137.04964,
     "end_time": "2023-03-24T18:08:14.020454",
     "exception": false,
     "start_time": "2023-03-24T18:05:56.970814",
     "status": "completed"
    },
    "tags": []
   },
   "outputs": [
    {
     "name": "stdout",
     "output_type": "stream",
     "text": [
      "Epoch 1/50\n",
      "1081/1081 [==============================] - 5s 4ms/step - loss: 0.2914 - val_loss: 0.2680\n",
      "Epoch 2/50\n",
      "1081/1081 [==============================] - 4s 3ms/step - loss: 0.2622 - val_loss: 0.2645\n",
      "Epoch 3/50\n",
      "1081/1081 [==============================] - 4s 3ms/step - loss: 0.2604 - val_loss: 0.2627\n",
      "Epoch 4/50\n",
      "1081/1081 [==============================] - 4s 4ms/step - loss: 0.2593 - val_loss: 0.2620\n",
      "Epoch 5/50\n",
      "1081/1081 [==============================] - 4s 3ms/step - loss: 0.2582 - val_loss: 0.2625\n",
      "Epoch 6/50\n",
      "1081/1081 [==============================] - 4s 4ms/step - loss: 0.2577 - val_loss: 0.2618\n",
      "Epoch 7/50\n",
      "1081/1081 [==============================] - 4s 4ms/step - loss: 0.2571 - val_loss: 0.2612\n",
      "Epoch 8/50\n",
      "1081/1081 [==============================] - 4s 3ms/step - loss: 0.2565 - val_loss: 0.2620\n",
      "Epoch 9/50\n",
      "1081/1081 [==============================] - 4s 4ms/step - loss: 0.2561 - val_loss: 0.2609\n",
      "Epoch 10/50\n",
      "1081/1081 [==============================] - 4s 3ms/step - loss: 0.2559 - val_loss: 0.2609\n",
      "Epoch 11/50\n",
      "1081/1081 [==============================] - 4s 3ms/step - loss: 0.2554 - val_loss: 0.2613\n",
      "Epoch 12/50\n",
      "1081/1081 [==============================] - 4s 4ms/step - loss: 0.2550 - val_loss: 0.2622\n",
      "Epoch 13/50\n",
      "1081/1081 [==============================] - 4s 3ms/step - loss: 0.2546 - val_loss: 0.2624\n",
      "Epoch 14/50\n",
      "1081/1081 [==============================] - 4s 3ms/step - loss: 0.2543 - val_loss: 0.2617\n",
      "Epoch 15/50\n",
      "1081/1081 [==============================] - 4s 3ms/step - loss: 0.2537 - val_loss: 0.2613\n",
      "Epoch 16/50\n",
      "1081/1081 [==============================] - 4s 4ms/step - loss: 0.2537 - val_loss: 0.2619\n",
      "Epoch 17/50\n",
      "1081/1081 [==============================] - 4s 4ms/step - loss: 0.2533 - val_loss: 0.2624\n",
      "Epoch 18/50\n",
      "1081/1081 [==============================] - 4s 4ms/step - loss: 0.2531 - val_loss: 0.2625\n",
      "Epoch 19/50\n",
      "1081/1081 [==============================] - 4s 4ms/step - loss: 0.2524 - val_loss: 0.2623\n",
      "Epoch 20/50\n",
      "1081/1081 [==============================] - 4s 4ms/step - loss: 0.2522 - val_loss: 0.2624\n",
      "Epoch 21/50\n",
      "1081/1081 [==============================] - 4s 3ms/step - loss: 0.2519 - val_loss: 0.2624\n",
      "Epoch 22/50\n",
      "1081/1081 [==============================] - 4s 4ms/step - loss: 0.2516 - val_loss: 0.2629\n",
      "Epoch 23/50\n",
      "1081/1081 [==============================] - 4s 3ms/step - loss: 0.2513 - val_loss: 0.2620\n",
      "Epoch 24/50\n",
      "1081/1081 [==============================] - 4s 4ms/step - loss: 0.2511 - val_loss: 0.2651\n",
      "Epoch 25/50\n",
      "1081/1081 [==============================] - 4s 4ms/step - loss: 0.2507 - val_loss: 0.2641\n",
      "Epoch 26/50\n",
      "1081/1081 [==============================] - 4s 4ms/step - loss: 0.2503 - val_loss: 0.2650\n",
      "Epoch 27/50\n",
      "1081/1081 [==============================] - 4s 3ms/step - loss: 0.2502 - val_loss: 0.2642\n",
      "Epoch 28/50\n",
      "1081/1081 [==============================] - 4s 3ms/step - loss: 0.2498 - val_loss: 0.2645\n",
      "Epoch 29/50\n",
      "1081/1081 [==============================] - 4s 3ms/step - loss: 0.2495 - val_loss: 0.2635\n",
      "Epoch 30/50\n",
      "1081/1081 [==============================] - 4s 3ms/step - loss: 0.2490 - val_loss: 0.2645\n",
      "Epoch 31/50\n",
      "1081/1081 [==============================] - 4s 3ms/step - loss: 0.2489 - val_loss: 0.2655\n",
      "Epoch 32/50\n",
      "1081/1081 [==============================] - 4s 3ms/step - loss: 0.2484 - val_loss: 0.2665\n",
      "Epoch 33/50\n",
      "1081/1081 [==============================] - 4s 4ms/step - loss: 0.2482 - val_loss: 0.2675\n",
      "Epoch 34/50\n",
      "1081/1081 [==============================] - 4s 4ms/step - loss: 0.2480 - val_loss: 0.2664\n",
      "Epoch 35/50\n",
      "1081/1081 [==============================] - 4s 4ms/step - loss: 0.2477 - val_loss: 0.2662\n",
      "Epoch 35: early stopping\n"
     ]
    },
    {
     "data": {
      "text/plain": [
       "<keras.callbacks.History at 0x7f20c06a5610>"
      ]
     },
     "execution_count": 93,
     "metadata": {},
     "output_type": "execute_result"
    }
   ],
   "source": [
    "# https://stats.stackexchange.com/questions/164876/tradeoff-batch-size-vs-number-of-iterations-to-train-a-neural-network\n",
    "# https://datascience.stackexchange.com/questions/18414/are-there-any-rules-for-choosing-the-size-of-a-mini-batch\n",
    "\n",
    "model.fit(x=X_train, \n",
    "          y=y_train, \n",
    "          epochs=50,\n",
    "          validation_data=(X_test, y_test),\n",
    "          batch_size = 256,\n",
    "          callbacks=[early_stop]\n",
    "          )"
   ]
  },
  {
   "cell_type": "code",
   "execution_count": 94,
   "id": "fb9474bb",
   "metadata": {
    "execution": {
     "iopub.execute_input": "2023-03-24T18:08:14.383085Z",
     "iopub.status.busy": "2023-03-24T18:08:14.382617Z",
     "iopub.status.idle": "2023-03-24T18:08:15.613232Z",
     "shell.execute_reply": "2023-03-24T18:08:15.611974Z"
    },
    "papermill": {
     "duration": 1.416108,
     "end_time": "2023-03-24T18:08:15.616925",
     "exception": false,
     "start_time": "2023-03-24T18:08:14.200817",
     "status": "completed"
    },
    "tags": []
   },
   "outputs": [],
   "source": [
    "model.save('Loan_EarlyStoppingOnly')"
   ]
  },
  {
   "cell_type": "code",
   "execution_count": 95,
   "id": "e0663a85",
   "metadata": {
    "execution": {
     "iopub.execute_input": "2023-03-24T18:08:15.978976Z",
     "iopub.status.busy": "2023-03-24T18:08:15.978467Z",
     "iopub.status.idle": "2023-03-24T18:08:15.985416Z",
     "shell.execute_reply": "2023-03-24T18:08:15.983787Z"
    },
    "papermill": {
     "duration": 0.191338,
     "end_time": "2023-03-24T18:08:15.988218",
     "exception": false,
     "start_time": "2023-03-24T18:08:15.796880",
     "status": "completed"
    },
    "tags": []
   },
   "outputs": [],
   "source": [
    "model_loss = pd.DataFrame(model.history.history)"
   ]
  },
  {
   "cell_type": "code",
   "execution_count": 96,
   "id": "7a9fd19b",
   "metadata": {
    "execution": {
     "iopub.execute_input": "2023-03-24T18:08:16.414793Z",
     "iopub.status.busy": "2023-03-24T18:08:16.414372Z",
     "iopub.status.idle": "2023-03-24T18:08:16.680990Z",
     "shell.execute_reply": "2023-03-24T18:08:16.679260Z"
    },
    "papermill": {
     "duration": 0.514575,
     "end_time": "2023-03-24T18:08:16.683897",
     "exception": false,
     "start_time": "2023-03-24T18:08:16.169322",
     "status": "completed"
    },
    "tags": []
   },
   "outputs": [
    {
     "data": {
      "text/plain": [
       "<AxesSubplot:>"
      ]
     },
     "execution_count": 96,
     "metadata": {},
     "output_type": "execute_result"
    },
    {
     "data": {
      "image/png": "[encoded data removed]",
      "text/plain": [
       "<Figure size 640x480 with 1 Axes>"
      ]
     },
     "metadata": {},
     "output_type": "display_data"
    }
   ],
   "source": [
    "model_loss[['loss', 'val_loss']].plot()"
   ]
  },
  {
   "cell_type": "code",
   "execution_count": 97,
   "id": "b9ec4c13",
   "metadata": {
    "execution": {
     "iopub.execute_input": "2023-03-24T18:08:17.042173Z",
     "iopub.status.busy": "2023-03-24T18:08:17.041076Z",
     "iopub.status.idle": "2023-03-24T18:08:17.046701Z",
     "shell.execute_reply": "2023-03-24T18:08:17.045474Z"
    },
    "papermill": {
     "duration": 0.187977,
     "end_time": "2023-03-24T18:08:17.049508",
     "exception": false,
     "start_time": "2023-03-24T18:08:16.861531",
     "status": "completed"
    },
    "tags": []
   },
   "outputs": [],
   "source": [
    "from sklearn.metrics import classification_report, confusion_matrix"
   ]
  },
  {
   "cell_type": "code",
   "execution_count": 98,
   "id": "46829632",
   "metadata": {
    "execution": {
     "iopub.execute_input": "2023-03-24T18:08:17.413727Z",
     "iopub.status.busy": "2023-03-24T18:08:17.413011Z",
     "iopub.status.idle": "2023-03-24T18:08:27.853956Z",
     "shell.execute_reply": "2023-03-24T18:08:27.852624Z"
    },
    "papermill": {
     "duration": 10.627412,
     "end_time": "2023-03-24T18:08:27.857011",
     "exception": false,
     "start_time": "2023-03-24T18:08:17.229599",
     "status": "completed"
    },
    "tags": []
   },
   "outputs": [
    {
     "name": "stdout",
     "output_type": "stream",
     "text": [
      "3706/3706 [==============================] - 5s 1ms/step\n"
     ]
    }
   ],
   "source": [
    "pred_ES = (model.predict(X_test) > 0.5).astype(\"int32\")"
   ]
  },
  {
   "cell_type": "code",
   "execution_count": 99,
   "id": "10d15107",
   "metadata": {
    "execution": {
     "iopub.execute_input": "2023-03-24T18:08:28.235056Z",
     "iopub.status.busy": "2023-03-24T18:08:28.233582Z",
     "iopub.status.idle": "2023-03-24T18:08:28.455231Z",
     "shell.execute_reply": "2023-03-24T18:08:28.453603Z"
    },
    "papermill": {
     "duration": 0.413388,
     "end_time": "2023-03-24T18:08:28.457930",
     "exception": false,
     "start_time": "2023-03-24T18:08:28.044542",
     "status": "completed"
    },
    "tags": []
   },
   "outputs": [
    {
     "name": "stdout",
     "output_type": "stream",
     "text": [
      "[[11403 11960]\n",
      " [ 1676 93527]]\n",
      "\n",
      "\n",
      "              precision    recall  f1-score   support\n",
      "\n",
      "           0       0.87      0.49      0.63     23363\n",
      "           1       0.89      0.98      0.93     95203\n",
      "\n",
      "    accuracy                           0.88    118566\n",
      "   macro avg       0.88      0.74      0.78    118566\n",
      "weighted avg       0.88      0.88      0.87    118566\n",
      "\n"
     ]
    }
   ],
   "source": [
    "print(confusion_matrix(y_test, pred_ES))\n",
    "print('\\n')\n",
    "print(classification_report(y_test, pred_ES))"
   ]
  },
  {
   "cell_type": "markdown",
   "id": "7ed205b3",
   "metadata": {
    "papermill": {
     "duration": 0.184733,
     "end_time": "2023-03-24T18:08:28.829563",
     "exception": false,
     "start_time": "2023-03-24T18:08:28.644830",
     "status": "completed"
    },
    "tags": []
   },
   "source": [
    "## Dropout"
   ]
  },
  {
   "cell_type": "code",
   "execution_count": 100,
   "id": "f291b82c",
   "metadata": {
    "execution": {
     "iopub.execute_input": "2023-03-24T18:08:29.205847Z",
     "iopub.status.busy": "2023-03-24T18:08:29.204542Z",
     "iopub.status.idle": "2023-03-24T18:08:29.231933Z",
     "shell.execute_reply": "2023-03-24T18:08:29.230232Z"
    },
    "papermill": {
     "duration": 0.219963,
     "end_time": "2023-03-24T18:08:29.235227",
     "exception": false,
     "start_time": "2023-03-24T18:08:29.015264",
     "status": "completed"
    },
    "tags": []
   },
   "outputs": [],
   "source": [
    "model = Sequential()\n",
    "\n",
    "model.add(Dense(units=79,activation='relu'))\n",
    "model.add(Dropout(0.2))\n",
    "\n",
    "model.add(Dense(units=39,activation='relu'))\n",
    "model.add(Dropout(0.2))\n",
    "\n",
    "model.add(Dense(units=19,activation='relu'))\n",
    "model.add(Dropout(0.2))\n",
    "\n",
    "model.add(Dense(units=1,activation='sigmoid'))\n",
    "\n",
    "\n",
    "# For a binary classification problem\n",
    "model.compile(loss='binary_crossentropy', optimizer='adam')"
   ]
  },
  {
   "cell_type": "code",
   "execution_count": 101,
   "id": "853b9e17",
   "metadata": {
    "execution": {
     "iopub.execute_input": "2023-03-24T18:08:29.606453Z",
     "iopub.status.busy": "2023-03-24T18:08:29.606003Z",
     "iopub.status.idle": "2023-03-24T18:11:59.794253Z",
     "shell.execute_reply": "2023-03-24T18:11:59.792652Z"
    },
    "papermill": {
     "duration": 210.376873,
     "end_time": "2023-03-24T18:11:59.796891",
     "exception": false,
     "start_time": "2023-03-24T18:08:29.420018",
     "status": "completed"
    },
    "tags": []
   },
   "outputs": [
    {
     "name": "stdout",
     "output_type": "stream",
     "text": [
      "Epoch 1/100\n",
      "1081/1081 [==============================] - 6s 5ms/step - loss: 0.3049 - val_loss: 0.2659\n",
      "Epoch 2/100\n",
      "1081/1081 [==============================] - 6s 5ms/step - loss: 0.2656 - val_loss: 0.2630\n",
      "Epoch 3/100\n",
      "1081/1081 [==============================] - 5s 5ms/step - loss: 0.2628 - val_loss: 0.2625\n",
      "Epoch 4/100\n",
      "1081/1081 [==============================] - 5s 5ms/step - loss: 0.2613 - val_loss: 0.2626\n",
      "Epoch 5/100\n",
      "1081/1081 [==============================] - 6s 5ms/step - loss: 0.2608 - val_loss: 0.2620\n",
      "Epoch 6/100\n",
      "1081/1081 [==============================] - 6s 5ms/step - loss: 0.2601 - val_loss: 0.2614\n",
      "Epoch 7/100\n",
      "1081/1081 [==============================] - 5s 5ms/step - loss: 0.2599 - val_loss: 0.2624\n",
      "Epoch 8/100\n",
      "1081/1081 [==============================] - 6s 5ms/step - loss: 0.2592 - val_loss: 0.2616\n",
      "Epoch 9/100\n",
      "1081/1081 [==============================] - 5s 5ms/step - loss: 0.2586 - val_loss: 0.2614\n",
      "Epoch 10/100\n",
      "1081/1081 [==============================] - 6s 5ms/step - loss: 0.2584 - val_loss: 0.2614\n",
      "Epoch 11/100\n",
      "1081/1081 [==============================] - 5s 5ms/step - loss: 0.2586 - val_loss: 0.2615\n",
      "Epoch 12/100\n",
      "1081/1081 [==============================] - 5s 5ms/step - loss: 0.2579 - val_loss: 0.2618\n",
      "Epoch 13/100\n",
      "1081/1081 [==============================] - 6s 5ms/step - loss: 0.2578 - val_loss: 0.2613\n",
      "Epoch 14/100\n",
      "1081/1081 [==============================] - 5s 5ms/step - loss: 0.2575 - val_loss: 0.2610\n",
      "Epoch 15/100\n",
      "1081/1081 [==============================] - 5s 5ms/step - loss: 0.2574 - val_loss: 0.2614\n",
      "Epoch 16/100\n",
      "1081/1081 [==============================] - 5s 5ms/step - loss: 0.2573 - val_loss: 0.2611\n",
      "Epoch 17/100\n",
      "1081/1081 [==============================] - 6s 5ms/step - loss: 0.2569 - val_loss: 0.2626\n",
      "Epoch 18/100\n",
      "1081/1081 [==============================] - 5s 5ms/step - loss: 0.2568 - val_loss: 0.2615\n",
      "Epoch 19/100\n",
      "1081/1081 [==============================] - 5s 5ms/step - loss: 0.2565 - val_loss: 0.2611\n",
      "Epoch 20/100\n",
      "1081/1081 [==============================] - 5s 5ms/step - loss: 0.2562 - val_loss: 0.2616\n",
      "Epoch 21/100\n",
      "1081/1081 [==============================] - 5s 5ms/step - loss: 0.2562 - val_loss: 0.2618\n",
      "Epoch 22/100\n",
      "1081/1081 [==============================] - 5s 5ms/step - loss: 0.2559 - val_loss: 0.2616\n",
      "Epoch 23/100\n",
      "1081/1081 [==============================] - 5s 5ms/step - loss: 0.2558 - val_loss: 0.2618\n",
      "Epoch 24/100\n",
      "1081/1081 [==============================] - 5s 5ms/step - loss: 0.2556 - val_loss: 0.2613\n",
      "Epoch 25/100\n",
      "1081/1081 [==============================] - 6s 5ms/step - loss: 0.2555 - val_loss: 0.2618\n",
      "Epoch 26/100\n",
      "1081/1081 [==============================] - 5s 5ms/step - loss: 0.2554 - val_loss: 0.2615\n",
      "Epoch 27/100\n",
      "1081/1081 [==============================] - 6s 5ms/step - loss: 0.2552 - val_loss: 0.2621\n",
      "Epoch 28/100\n",
      "1081/1081 [==============================] - 5s 5ms/step - loss: 0.2549 - val_loss: 0.2615\n",
      "Epoch 29/100\n",
      "1081/1081 [==============================] - 5s 5ms/step - loss: 0.2546 - val_loss: 0.2617\n",
      "Epoch 30/100\n",
      "1081/1081 [==============================] - 6s 5ms/step - loss: 0.2545 - val_loss: 0.2613\n",
      "Epoch 31/100\n",
      "1081/1081 [==============================] - 5s 5ms/step - loss: 0.2542 - val_loss: 0.2622\n",
      "Epoch 32/100\n",
      "1081/1081 [==============================] - 5s 5ms/step - loss: 0.2544 - val_loss: 0.2617\n",
      "Epoch 33/100\n",
      "1081/1081 [==============================] - 5s 5ms/step - loss: 0.2542 - val_loss: 0.2616\n",
      "Epoch 34/100\n",
      "1081/1081 [==============================] - 6s 5ms/step - loss: 0.2542 - val_loss: 0.2619\n",
      "Epoch 35/100\n",
      "1081/1081 [==============================] - 5s 5ms/step - loss: 0.2543 - val_loss: 0.2619\n",
      "Epoch 36/100\n",
      "1081/1081 [==============================] - 5s 5ms/step - loss: 0.2538 - val_loss: 0.2615\n",
      "Epoch 37/100\n",
      "1081/1081 [==============================] - 6s 5ms/step - loss: 0.2537 - val_loss: 0.2615\n",
      "Epoch 38/100\n",
      "1081/1081 [==============================] - 5s 5ms/step - loss: 0.2534 - val_loss: 0.2611\n",
      "Epoch 39/100\n",
      "1081/1081 [==============================] - 5s 5ms/step - loss: 0.2536 - val_loss: 0.2614\n",
      "Epoch 39: early stopping\n"
     ]
    },
    {
     "data": {
      "text/plain": [
       "<keras.callbacks.History at 0x7f20a35e7810>"
      ]
     },
     "execution_count": 101,
     "metadata": {},
     "output_type": "execute_result"
    }
   ],
   "source": [
    "model.fit(x=X_train, \n",
    "          y=y_train, \n",
    "          epochs=100,\n",
    "          validation_data=(X_test, y_test),\n",
    "          batch_size = 256,\n",
    "          callbacks=[early_stop]\n",
    "          )"
   ]
  },
  {
   "cell_type": "code",
   "execution_count": 102,
   "id": "8c7a716e",
   "metadata": {
    "execution": {
     "iopub.execute_input": "2023-03-24T18:12:00.608146Z",
     "iopub.status.busy": "2023-03-24T18:12:00.607705Z",
     "iopub.status.idle": "2023-03-24T18:12:01.693851Z",
     "shell.execute_reply": "2023-03-24T18:12:01.692551Z"
    },
    "papermill": {
     "duration": 1.490981,
     "end_time": "2023-03-24T18:12:01.698021",
     "exception": false,
     "start_time": "2023-03-24T18:12:00.207040",
     "status": "completed"
    },
    "tags": []
   },
   "outputs": [],
   "source": [
    "model.save('Loan_Dropout')"
   ]
  },
  {
   "cell_type": "code",
   "execution_count": 103,
   "id": "3905a3ca",
   "metadata": {
    "execution": {
     "iopub.execute_input": "2023-03-24T18:12:02.561762Z",
     "iopub.status.busy": "2023-03-24T18:12:02.561315Z",
     "iopub.status.idle": "2023-03-24T18:12:02.568055Z",
     "shell.execute_reply": "2023-03-24T18:12:02.566749Z"
    },
    "papermill": {
     "duration": 0.473879,
     "end_time": "2023-03-24T18:12:02.570799",
     "exception": false,
     "start_time": "2023-03-24T18:12:02.096920",
     "status": "completed"
    },
    "tags": []
   },
   "outputs": [],
   "source": [
    "model_loss_do = pd.DataFrame(model.history.history)"
   ]
  },
  {
   "cell_type": "code",
   "execution_count": 104,
   "id": "d51b6f57",
   "metadata": {
    "execution": {
     "iopub.execute_input": "2023-03-24T18:12:03.375552Z",
     "iopub.status.busy": "2023-03-24T18:12:03.374065Z",
     "iopub.status.idle": "2023-03-24T18:12:03.618384Z",
     "shell.execute_reply": "2023-03-24T18:12:03.617295Z"
    },
    "papermill": {
     "duration": 0.652648,
     "end_time": "2023-03-24T18:12:03.620929",
     "exception": false,
     "start_time": "2023-03-24T18:12:02.968281",
     "status": "completed"
    },
    "tags": []
   },
   "outputs": [
    {
     "data": {
      "text/plain": [
       "<AxesSubplot:>"
      ]
     },
     "execution_count": 104,
     "metadata": {},
     "output_type": "execute_result"
    },
    {
     "data": {
      "image/png": "[encoded data removed]",
      "text/plain": [
       "<Figure size 640x480 with 1 Axes>"
      ]
     },
     "metadata": {},
     "output_type": "display_data"
    }
   ],
   "source": [
    "model_loss_do.plot()"
   ]
  },
  {
   "cell_type": "code",
   "execution_count": 105,
   "id": "9548e08b",
   "metadata": {
    "execution": {
     "iopub.execute_input": "2023-03-24T18:12:04.490011Z",
     "iopub.status.busy": "2023-03-24T18:12:04.488954Z",
     "iopub.status.idle": "2023-03-24T18:12:10.524301Z",
     "shell.execute_reply": "2023-03-24T18:12:10.522841Z"
    },
    "papermill": {
     "duration": 6.505207,
     "end_time": "2023-03-24T18:12:10.527417",
     "exception": false,
     "start_time": "2023-03-24T18:12:04.022210",
     "status": "completed"
    },
    "tags": []
   },
   "outputs": [
    {
     "name": "stdout",
     "output_type": "stream",
     "text": [
      "3706/3706 [==============================] - 5s 1ms/step\n"
     ]
    }
   ],
   "source": [
    "pred_DO = (model.predict(X_test) > 0.5).astype(\"int32\")"
   ]
  },
  {
   "cell_type": "code",
   "execution_count": 106,
   "id": "ab9898cf",
   "metadata": {
    "execution": {
     "iopub.execute_input": "2023-03-24T18:12:11.355628Z",
     "iopub.status.busy": "2023-03-24T18:12:11.355206Z",
     "iopub.status.idle": "2023-03-24T18:12:11.572773Z",
     "shell.execute_reply": "2023-03-24T18:12:11.571015Z"
    },
    "papermill": {
     "duration": 0.635794,
     "end_time": "2023-03-24T18:12:11.575979",
     "exception": false,
     "start_time": "2023-03-24T18:12:10.940185",
     "status": "completed"
    },
    "tags": []
   },
   "outputs": [
    {
     "name": "stdout",
     "output_type": "stream",
     "text": [
      "[[10525 12838]\n",
      " [  494 94709]]\n",
      "\n",
      "\n",
      "              precision    recall  f1-score   support\n",
      "\n",
      "           0       0.96      0.45      0.61     23363\n",
      "           1       0.88      0.99      0.93     95203\n",
      "\n",
      "    accuracy                           0.89    118566\n",
      "   macro avg       0.92      0.72      0.77    118566\n",
      "weighted avg       0.90      0.89      0.87    118566\n",
      "\n"
     ]
    }
   ],
   "source": [
    "print(confusion_matrix(y_test, pred_DO))\n",
    "print('\\n')\n",
    "print(classification_report(y_test, pred_DO))"
   ]
  },
  {
   "cell_type": "markdown",
   "id": "dbdacd82",
   "metadata": {
    "papermill": {
     "duration": 0.409504,
     "end_time": "2023-03-24T18:12:12.388249",
     "exception": false,
     "start_time": "2023-03-24T18:12:11.978745",
     "status": "completed"
    },
    "tags": []
   },
   "source": [
    "## Test"
   ]
  },
  {
   "cell_type": "code",
   "execution_count": 107,
   "id": "b944b8b5",
   "metadata": {
    "execution": {
     "iopub.execute_input": "2023-03-24T18:12:13.260327Z",
     "iopub.status.busy": "2023-03-24T18:12:13.259931Z",
     "iopub.status.idle": "2023-03-24T18:12:13.351996Z",
     "shell.execute_reply": "2023-03-24T18:12:13.350447Z"
    },
    "papermill": {
     "duration": 0.501238,
     "end_time": "2023-03-24T18:12:13.354791",
     "exception": false,
     "start_time": "2023-03-24T18:12:12.853553",
     "status": "completed"
    },
    "tags": []
   },
   "outputs": [
    {
     "data": {
      "text/plain": [
       "loan_amnt           15000.00\n",
       "term                   36.00\n",
       "int_rate                7.89\n",
       "installment           469.29\n",
       "annual_inc          49000.00\n",
       "                      ...   \n",
       "48052                   0.00\n",
       "70466                   0.00\n",
       "86630                   0.00\n",
       "93700                   0.00\n",
       "earliest_cr_year     2001.00\n",
       "Name: 76514, Length: 78, dtype: float64"
      ]
     },
     "execution_count": 107,
     "metadata": {},
     "output_type": "execute_result"
    }
   ],
   "source": [
    "import random\n",
    "random.seed(100)\n",
    "random_ind = random.randint(0,len(df))\n",
    "\n",
    "new_customer = df.drop('loan_repaid',axis=1).iloc[random_ind]\n",
    "\n",
    "new_customer"
   ]
  },
  {
   "cell_type": "code",
   "execution_count": 108,
   "id": "c2c75e55",
   "metadata": {
    "execution": {
     "iopub.execute_input": "2023-03-24T18:12:14.194099Z",
     "iopub.status.busy": "2023-03-24T18:12:14.193350Z",
     "iopub.status.idle": "2023-03-24T18:12:14.279000Z",
     "shell.execute_reply": "2023-03-24T18:12:14.276840Z"
    },
    "papermill": {
     "duration": 0.508146,
     "end_time": "2023-03-24T18:12:14.282102",
     "exception": false,
     "start_time": "2023-03-24T18:12:13.773956",
     "status": "completed"
    },
    "tags": []
   },
   "outputs": [
    {
     "name": "stdout",
     "output_type": "stream",
     "text": [
      "1/1 [==============================] - 0s 26ms/step\n"
     ]
    },
    {
     "data": {
      "text/plain": [
       "array([[1]], dtype=int32)"
      ]
     },
     "execution_count": 108,
     "metadata": {},
     "output_type": "execute_result"
    }
   ],
   "source": [
    "(model.predict(new_customer.values.reshape(1,78)) > 0.5).astype(\"int32\")"
   ]
  },
  {
   "cell_type": "code",
   "execution_count": 109,
   "id": "0414a52e",
   "metadata": {
    "execution": {
     "iopub.execute_input": "2023-03-24T18:12:15.128615Z",
     "iopub.status.busy": "2023-03-24T18:12:15.128217Z",
     "iopub.status.idle": "2023-03-24T18:12:15.136512Z",
     "shell.execute_reply": "2023-03-24T18:12:15.135210Z"
    },
    "papermill": {
     "duration": 0.423388,
     "end_time": "2023-03-24T18:12:15.138935",
     "exception": false,
     "start_time": "2023-03-24T18:12:14.715547",
     "status": "completed"
    },
    "tags": []
   },
   "outputs": [
    {
     "data": {
      "text/plain": [
       "1.0"
      ]
     },
     "execution_count": 109,
     "metadata": {},
     "output_type": "execute_result"
    }
   ],
   "source": [
    "df.iloc[random_ind]['loan_repaid']"
   ]
  }
 ],
 "metadata": {
  "kernelspec": {
   "display_name": "Python 3",
   "language": "python",
   "name": "python3"
  },
  "language_info": {
   "codemirror_mode": {
    "name": "ipython",
    "version": 3
   },
   "file_extension": ".py",
   "mimetype": "text/x-python",
   "name": "python",
   "nbconvert_exporter": "python",
   "pygments_lexer": "ipython3",
   "version": "3.7.12"
  },
  "papermill": {
   "default_parameters": {},
   "duration": 443.346614,
   "end_time": "2023-03-24T18:12:19.122872",
   "environment_variables": {},
   "exception": null,
   "input_path": "__notebook__.ipynb",
   "output_path": "__notebook__.ipynb",
   "parameters": {},
   "start_time": "2023-03-24T18:04:55.776258",
   "version": "2.4.0"
  }
 },
 "nbformat": 4,
 "nbformat_minor": 5
}
